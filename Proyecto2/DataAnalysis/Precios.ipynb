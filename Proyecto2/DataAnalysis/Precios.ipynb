{
 "cells": [
  {
   "cell_type": "code",
   "execution_count": 1,
   "id": "2553d4f7-ed85-4833-8a99-d458db324dc2",
   "metadata": {},
   "outputs": [],
   "source": [
    "import pandas as pd\n",
    "import seaborn as sns\n",
    "import matplotlib.pyplot as plt"
   ]
  },
  {
   "cell_type": "code",
   "execution_count": 7,
   "id": "de89cde7-f88b-44a0-af6c-1e7b57e3d158",
   "metadata": {},
   "outputs": [],
   "source": [
    "df = pd.read_csv('../dataset/dataF.csv')"
   ]
  },
  {
   "cell_type": "code",
   "execution_count": 9,
   "id": "ea719abc-da71-4515-96ef-bd29f81dbdd6",
   "metadata": {},
   "outputs": [
    {
     "data": {
      "text/html": [
       "<div>\n",
       "<style scoped>\n",
       "    .dataframe tbody tr th:only-of-type {\n",
       "        vertical-align: middle;\n",
       "    }\n",
       "\n",
       "    .dataframe tbody tr th {\n",
       "        vertical-align: top;\n",
       "    }\n",
       "\n",
       "    .dataframe thead th {\n",
       "        text-align: right;\n",
       "    }\n",
       "</style>\n",
       "<table border=\"1\" class=\"dataframe\">\n",
       "  <thead>\n",
       "    <tr style=\"text-align: right;\">\n",
       "      <th></th>\n",
       "      <th>id_marca</th>\n",
       "      <th>nombre</th>\n",
       "      <th>ano_creacion</th>\n",
       "      <th>categoria</th>\n",
       "      <th>ciudad_base</th>\n",
       "      <th>disponibilidad</th>\n",
       "      <th>precios_promedio</th>\n",
       "      <th>seguidores_ig</th>\n",
       "      <th>seguidores_tt</th>\n",
       "    </tr>\n",
       "  </thead>\n",
       "  <tbody>\n",
       "    <tr>\n",
       "      <th>0</th>\n",
       "      <td>1</td>\n",
       "      <td>Palida studios</td>\n",
       "      <td>2019</td>\n",
       "      <td>Streetwear, Urbano</td>\n",
       "      <td>Nezahualcoyotl, Estado de México</td>\n",
       "      <td>Ambos</td>\n",
       "      <td>750.0</td>\n",
       "      <td>12400</td>\n",
       "      <td>1914</td>\n",
       "    </tr>\n",
       "    <tr>\n",
       "      <th>1</th>\n",
       "      <td>2</td>\n",
       "      <td>Tony Delfino</td>\n",
       "      <td>2008</td>\n",
       "      <td>Casual, Urbano, Streetwear</td>\n",
       "      <td>Ciudad de México, Centro</td>\n",
       "      <td>Ambos</td>\n",
       "      <td>1100.0</td>\n",
       "      <td>114000</td>\n",
       "      <td>1870</td>\n",
       "    </tr>\n",
       "    <tr>\n",
       "      <th>2</th>\n",
       "      <td>3</td>\n",
       "      <td>Wavy</td>\n",
       "      <td>2021</td>\n",
       "      <td>Streetwear, Urbano</td>\n",
       "      <td>Ciudad de México</td>\n",
       "      <td>Ambos</td>\n",
       "      <td>700.0</td>\n",
       "      <td>10000</td>\n",
       "      <td>23000</td>\n",
       "    </tr>\n",
       "    <tr>\n",
       "      <th>3</th>\n",
       "      <td>4</td>\n",
       "      <td>Egoista</td>\n",
       "      <td>2022</td>\n",
       "      <td>Streetwear, Urbano, Alternativo</td>\n",
       "      <td>Ecatepec, Estado de México</td>\n",
       "      <td>Ambos</td>\n",
       "      <td>600.0</td>\n",
       "      <td>24500</td>\n",
       "      <td>34600</td>\n",
       "    </tr>\n",
       "    <tr>\n",
       "      <th>4</th>\n",
       "      <td>5</td>\n",
       "      <td>Laminero</td>\n",
       "      <td>2022</td>\n",
       "      <td>Streetwear</td>\n",
       "      <td>Ciudad de México</td>\n",
       "      <td>Online</td>\n",
       "      <td>700.0</td>\n",
       "      <td>624</td>\n",
       "      <td>2717</td>\n",
       "    </tr>\n",
       "  </tbody>\n",
       "</table>\n",
       "</div>"
      ],
      "text/plain": [
       "   id_marca          nombre  ano_creacion                        categoria  \\\n",
       "0         1  Palida studios          2019               Streetwear, Urbano   \n",
       "1         2    Tony Delfino          2008       Casual, Urbano, Streetwear   \n",
       "2         3            Wavy          2021               Streetwear, Urbano   \n",
       "3         4         Egoista          2022  Streetwear, Urbano, Alternativo   \n",
       "4         5        Laminero          2022                       Streetwear   \n",
       "\n",
       "                        ciudad_base disponibilidad  precios_promedio  \\\n",
       "0  Nezahualcoyotl, Estado de México          Ambos             750.0   \n",
       "1          Ciudad de México, Centro          Ambos            1100.0   \n",
       "2                  Ciudad de México          Ambos             700.0   \n",
       "3        Ecatepec, Estado de México          Ambos             600.0   \n",
       "4                  Ciudad de México         Online             700.0   \n",
       "\n",
       "   seguidores_ig  seguidores_tt  \n",
       "0          12400           1914  \n",
       "1         114000           1870  \n",
       "2          10000          23000  \n",
       "3          24500          34600  \n",
       "4            624           2717  "
      ]
     },
     "execution_count": 9,
     "metadata": {},
     "output_type": "execute_result"
    }
   ],
   "source": [
    "df.head()"
   ]
  },
  {
   "cell_type": "code",
   "execution_count": 11,
   "id": "8887ea79-5623-47ae-b365-c78a8abd8c1b",
   "metadata": {},
   "outputs": [
    {
     "data": {
      "text/plain": [
       "count     118.000000\n",
       "mean     1656.304576\n",
       "std      1317.966001\n",
       "min         0.000000\n",
       "25%       800.000000\n",
       "50%      1000.000000\n",
       "75%      2281.735000\n",
       "max      6495.000000\n",
       "Name: precios_promedio, dtype: float64"
      ]
     },
     "execution_count": 11,
     "metadata": {},
     "output_type": "execute_result"
    }
   ],
   "source": [
    "df['precios_promedio'].describe()"
   ]
  },
  {
   "cell_type": "markdown",
   "id": "3fa8d0ea-31cf-43b5-b01d-7db9d0de4a2a",
   "metadata": {},
   "source": [
    "## Distribución de Precios - Histograma y boxplot"
   ]
  },
  {
   "cell_type": "code",
   "execution_count": 17,
   "id": "9878c6fc-6b83-40ba-9fbb-9f39e81cf8a4",
   "metadata": {},
   "outputs": [
    {
     "data": {
      "image/png": "[encoded data removed]",
      "text/plain": [
       "<Figure size 800x500 with 1 Axes>"
      ]
     },
     "metadata": {},
     "output_type": "display_data"
    }
   ],
   "source": [
    "plt.figure(figsize=(8,5))\n",
    "sns.histplot(df[\"precios_promedio\"], bins=20, kde=True, color=\"b\")\n",
    "plt.title(\"Distribucion de precios promedio\")\n",
    "plt.xlabel(\"Precio\")\n",
    "plt.ylabel(\"Frecuencia\")\n",
    "plt.show()"
   ]
  },
  {
   "cell_type": "code",
   "execution_count": 27,
   "id": "913377aa-55a7-47c7-bdd7-7e2fa4e87b2a",
   "metadata": {},
   "outputs": [
    {
     "data": {
      "image/png": "[encoded data removed]",
      "text/plain": [
       "<Figure size 800x500 with 1 Axes>"
      ]
     },
     "metadata": {},
     "output_type": "display_data"
    }
   ],
   "source": [
    "plt.figure(figsize=(8,5))\n",
    "sns.boxplot(x=df[\"precios_promedio\"], color=\"c\")\n",
    "plt.title(\"Boxplot de precios promedio\")\n",
    "plt.xlabel(\"Precio\")\n",
    "plt.show()"
   ]
  },
  {
   "cell_type": "code",
   "execution_count": null,
   "id": "02cfa876-5ae1-40ea-a8dc-c1d8ead54db8",
   "metadata": {},
   "outputs": [],
   "source": []
  }
 ],
 "metadata": {
  "kernelspec": {
   "display_name": "Python [conda env:base] *",
   "language": "python",
   "name": "conda-base-py"
  },
  "language_info": {
   "codemirror_mode": {
    "name": "ipython",
    "version": 3
   },
   "file_extension": ".py",
   "mimetype": "text/x-python",
   "name": "python",
   "nbconvert_exporter": "python",
   "pygments_lexer": "ipython3",
   "version": "3.12.7"
  }
 },
 "nbformat": 4,
 "nbformat_minor": 5
}
