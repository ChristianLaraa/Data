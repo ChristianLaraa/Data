{
 "cells": [
  {
   "cell_type": "code",
   "execution_count": 32,
   "id": "21092c82-4553-405b-bd1b-b15587ef288f",
   "metadata": {},
   "outputs": [],
   "source": [
    "import pandas as pd\n",
    "import matplotlib.pyplot as plt\n",
    "import seaborn as sns"
   ]
  },
  {
   "cell_type": "code",
   "execution_count": 47,
   "id": "cadc4a16-1d80-4240-b97d-c046c0c8a8bb",
   "metadata": {},
   "outputs": [],
   "source": [
    "df = pd.read_csv('../Dataset/modaemergente_Marcas.csv')"
   ]
  },
  {
   "cell_type": "code",
   "execution_count": 49,
   "id": "a4a3a00d-f2c6-41bc-9d6e-837225342a67",
   "metadata": {
    "panel-layout": {
     "height": 0,
     "visible": true,
     "width": 100
    }
   },
   "outputs": [
    {
     "name": "stdout",
     "output_type": "stream",
     "text": [
      "   id_marca          nombre  ano_creacion                        categoria  \\\n",
      "0         1  Palida studios          2019               Streetwear, urbano   \n",
      "1         2    Tony Delfino          2008       Casual, Urbano, Streatwear   \n",
      "2         3            Wavy          2021               Streatwear, urbano   \n",
      "3         4         Egoista          2022  Streatwear, urbano, alternativo   \n",
      "4         5        Laminero          2022                       Streatwear   \n",
      "\n",
      "                        ciudad_base disponibilidad  precios_promedio  \\\n",
      "0  Nezahualcoyotl, Estado de México          Ambos             750.0   \n",
      "1          Ciudad de México, Centro          Ambos            1100.0   \n",
      "2                  Ciudad de México          Ambos             700.0   \n",
      "3        Ecatepec, Estado de México          Ambos             600.0   \n",
      "4                  Ciudad de México         Online             700.0   \n",
      "\n",
      "   seguidores_ig  seguidores_tt  engagement_redes  \n",
      "0          12400           1914              4.51  \n",
      "1         114000           1870              4.22  \n",
      "2          10000          23000              3.92  \n",
      "3          24500          34600              0.00  \n",
      "4            624           2717              0.00  \n"
     ]
    }
   ],
   "source": [
    "print(df.head())"
   ]
  },
  {
   "cell_type": "code",
   "execution_count": 51,
   "id": "019aadcb-1c1d-4999-93d2-6ab91bc76ede",
   "metadata": {
    "panel-layout": {
     "height": 0,
     "visible": true,
     "width": 100
    }
   },
   "outputs": [
    {
     "name": "stdout",
     "output_type": "stream",
     "text": [
      "<class 'pandas.core.frame.DataFrame'>\n",
      "RangeIndex: 105 entries, 0 to 104\n",
      "Data columns (total 10 columns):\n",
      " #   Column            Non-Null Count  Dtype  \n",
      "---  ------            --------------  -----  \n",
      " 0   id_marca          105 non-null    int64  \n",
      " 1   nombre            105 non-null    object \n",
      " 2   ano_creacion      105 non-null    int64  \n",
      " 3   categoria         105 non-null    object \n",
      " 4   ciudad_base       105 non-null    object \n",
      " 5   disponibilidad    105 non-null    object \n",
      " 6   precios_promedio  105 non-null    float64\n",
      " 7   seguidores_ig     105 non-null    int64  \n",
      " 8   seguidores_tt     105 non-null    int64  \n",
      " 9   engagement_redes  105 non-null    float64\n",
      "dtypes: float64(2), int64(4), object(4)\n",
      "memory usage: 8.3+ KB\n",
      "None\n"
     ]
    }
   ],
   "source": [
    "print(df.info())"
   ]
  },
  {
   "cell_type": "code",
   "execution_count": 53,
   "id": "b84c321e-c0c3-4c32-85a0-c272cd0996e4",
   "metadata": {
    "panel-layout": {
     "height": 0,
     "visible": true,
     "width": 100
    }
   },
   "outputs": [
    {
     "name": "stdout",
     "output_type": "stream",
     "text": [
      "         id_marca  ano_creacion  precios_promedio  seguidores_ig  \\\n",
      "count  105.000000    105.000000        105.000000     105.000000   \n",
      "mean    53.000000   2020.285714       1608.676190   18737.352381   \n",
      "std     30.454885      2.934261       1312.712997   41679.430173   \n",
      "min      1.000000   2008.000000          0.000000     237.000000   \n",
      "25%     27.000000   2019.000000        790.000000    2334.000000   \n",
      "50%     53.000000   2021.000000        950.000000    6458.000000   \n",
      "75%     79.000000   2022.000000       1910.000000   15500.000000   \n",
      "max    105.000000   2025.000000       6495.000000  355000.000000   \n",
      "\n",
      "       seguidores_tt  engagement_redes  \n",
      "count     105.000000        105.000000  \n",
      "mean     8726.304762          0.120476  \n",
      "std     27759.962816          0.707045  \n",
      "min         0.000000          0.000000  \n",
      "25%        70.000000          0.000000  \n",
      "50%       517.000000          0.000000  \n",
      "75%      4341.000000          0.000000  \n",
      "max    178700.000000          4.510000  \n"
     ]
    }
   ],
   "source": [
    "print(df.describe())"
   ]
  },
  {
   "cell_type": "code",
   "execution_count": 55,
   "id": "c64ae142-9ed0-49ab-8acd-c2f6f63b1739",
   "metadata": {
    "panel-layout": {
     "height": 0,
     "visible": true,
     "width": 100
    }
   },
   "outputs": [
    {
     "name": "stdout",
     "output_type": "stream",
     "text": [
      "id_marca            0\n",
      "nombre              0\n",
      "ano_creacion        0\n",
      "categoria           0\n",
      "ciudad_base         0\n",
      "disponibilidad      0\n",
      "precios_promedio    0\n",
      "seguidores_ig       0\n",
      "seguidores_tt       0\n",
      "engagement_redes    0\n",
      "dtype: int64\n"
     ]
    }
   ],
   "source": [
    "print(df.isnull().sum())"
   ]
  },
  {
   "cell_type": "markdown",
   "id": "58e28776-0738-46ec-a9c2-24b78424c63c",
   "metadata": {},
   "source": [
    "## Eliminar la columna de engagment redes, ya que no contiene contenido valido para el analisis"
   ]
  },
  {
   "cell_type": "code",
   "execution_count": 64,
   "id": "efdda03a-f697-4485-a0c8-c82803a73faf",
   "metadata": {},
   "outputs": [],
   "source": [
    "df.columns = df.columns.str.strip()"
   ]
  },
  {
   "cell_type": "markdown",
   "id": "64e87e03-ce96-4a2f-bd73-7692ecdc2f9c",
   "metadata": {},
   "source": [
    "df = df.drop ('engagment_redes', axis = 1)"
   ]
  },
  {
   "cell_type": "markdown",
   "id": "ab498429-bbe6-49b9-9a85-d072f3b3410e",
   "metadata": {},
   "source": [
    "Elimina la columna completa del dataset"
   ]
  },
  {
   "cell_type": "code",
   "execution_count": 72,
   "id": "bf1bcc79-acdb-45d9-9054-9b8b9021a50a",
   "metadata": {},
   "outputs": [
    {
     "name": "stdout",
     "output_type": "stream",
     "text": [
      "   id_marca          nombre  ano_creacion                        categoria  \\\n",
      "0         1  Palida studios          2019               Streetwear, urbano   \n",
      "1         2    Tony Delfino          2008       Casual, Urbano, Streatwear   \n",
      "2         3            Wavy          2021               Streatwear, urbano   \n",
      "3         4         Egoista          2022  Streatwear, urbano, alternativo   \n",
      "4         5        Laminero          2022                       Streatwear   \n",
      "\n",
      "                        ciudad_base disponibilidad  precios_promedio  \\\n",
      "0  Nezahualcoyotl, Estado de México          Ambos             750.0   \n",
      "1          Ciudad de México, Centro          Ambos            1100.0   \n",
      "2                  Ciudad de México          Ambos             700.0   \n",
      "3        Ecatepec, Estado de México          Ambos             600.0   \n",
      "4                  Ciudad de México         Online             700.0   \n",
      "\n",
      "   seguidores_ig  seguidores_tt  \n",
      "0          12400           1914  \n",
      "1         114000           1870  \n",
      "2          10000          23000  \n",
      "3          24500          34600  \n",
      "4            624           2717  \n"
     ]
    }
   ],
   "source": [
    "print(df.head())"
   ]
  },
  {
   "cell_type": "markdown",
   "id": "92815eda-57a6-43d2-b025-129db54a4e84",
   "metadata": {},
   "source": [
    "Verificamos que efectivamente esa columna no existe más en nuestro dataset"
   ]
  },
  {
   "cell_type": "code",
   "execution_count": 76,
   "id": "146993ab-a2d3-4b88-8cd6-e1921ad9c2f1",
   "metadata": {},
   "outputs": [
    {
     "name": "stdout",
     "output_type": "stream",
     "text": [
      "ciudad_base\n",
      "Ciudad de México                    65\n",
      "Nezahualcoyotl, Estado de México     9\n",
      "Guadalajara, Jalisco                 9\n",
      "Ciudad de México, Centro             3\n",
      "Ecatepec, Estado de México           3\n",
      "Monterrey, Nuevo León                3\n",
      "Monterrey Nuevo León                 2\n",
      "Tijuana, Baja California             2\n",
      "Culiacan, Sinaloa                    2\n",
      "Texcoco, Estado de México            1\n",
      "Monterrey, Nuevo Leon                1\n",
      "Queretaro                            1\n",
      "Colima                               1\n",
      "Manzanillo, Colima                   1\n",
      "La piedad, Michoacan                 1\n",
      "León, Guanajuato                     1\n",
      "Name: count, dtype: int64\n"
     ]
    }
   ],
   "source": [
    "conteo = df['ciudad_base'].value_counts()\n",
    "print(conteo)"
   ]
  },
  {
   "cell_type": "code",
   "execution_count": 78,
   "id": "db9555ed-e89e-47c7-825a-b53f462ebc1b",
   "metadata": {},
   "outputs": [
    {
     "name": "stdout",
     "output_type": "stream",
     "text": [
      "categoria\n",
      "Streatwear                                     31\n",
      "Slow Fashion                                   16\n",
      "Slow Fashion, Streatwear                        4\n",
      "Streatwear, Slow Fashion                        3\n",
      "Streatwear, Minimalista                         3\n",
      "High Fashion, Slow Fashion                      3\n",
      "Slow Fashion, Girls                             3\n",
      "Jewerly                                         2\n",
      "Jewelry                                         2\n",
      "Slow Fashion, Casual                            1\n",
      "Streatweart                                     1\n",
      "Streatwear, Casual                              1\n",
      "Slow Fashion, StreatweR                         1\n",
      "Bootleg Merch, Merch                            1\n",
      "Ready to wear, Streatwear                       1\n",
      "Slow Fashion, Mexican Core                      1\n",
      "Slof Fashion                                    1\n",
      "Custom Merch                                    1\n",
      "Runnig                                          1\n",
      "Casueal, Jackets                                1\n",
      "Slow Fashion, Custom                            1\n",
      "Contemporary Mexican Folk, Slow Fashion         1\n",
      "Streatwear, Caps                                1\n",
      "Stretwear                                       1\n",
      "Apparel store, Streatwear                       1\n",
      "Basicos, Streatwear                             1\n",
      "Streetwear, urbano                              1\n",
      "Slow Fasion, Black                              1\n",
      "Casual, Urbano, Streatwear                      1\n",
      "Streatwear, urbano                              1\n",
      "Streatwear, urbano, alternativo                 1\n",
      "Alternativo                                     1\n",
      "Alternativo, Streatwear                         1\n",
      "Streatwear, Black and White                     1\n",
      "High Fashion, Streatwear                        1\n",
      "Streatwear, Alternativo                         1\n",
      "Slow Fashion, Streatwear, Girls                 1\n",
      "Slow Fashion, Streatwear, Bags                  1\n",
      "Handbags, Slow Fashion                          1\n",
      "Bootleg Merch                                   1\n",
      "Custom, Slow Fashion                            1\n",
      "High Fashion, Wearable Technology               1\n",
      "Bootleg Merch, Original Bootleg, Streatwear     1\n",
      "Streatwear, Slow Fashion, 1:1                   1\n",
      "Hand Bags, Slow Fashion                         1\n",
      "Handmade Jewerly                                1\n",
      "Streatwear, Bootleg Merch, Merch                1\n",
      "Name: count, dtype: int64\n"
     ]
    }
   ],
   "source": [
    "conteoCat = df['categoria'].value_counts()\n",
    "print(conteoCat)"
   ]
  },
  {
   "cell_type": "code",
   "execution_count": null,
   "id": "7daef08f-9797-4da9-9058-9ef0a24d67e7",
   "metadata": {},
   "outputs": [],
   "source": []
  }
 ],
 "metadata": {
  "kernelspec": {
   "display_name": "Python [conda env:base] *",
   "language": "python",
   "name": "conda-base-py"
  },
  "language_info": {
   "codemirror_mode": {
    "name": "ipython",
    "version": 3
   },
   "file_extension": ".py",
   "mimetype": "text/x-python",
   "name": "python",
   "nbconvert_exporter": "python",
   "pygments_lexer": "ipython3",
   "version": "3.12.7"
  },
  "panel-cell-order": [
   "a4a3a00d-f2c6-41bc-9d6e-837225342a67",
   "019aadcb-1c1d-4999-93d2-6ab91bc76ede",
   "b84c321e-c0c3-4c32-85a0-c272cd0996e4",
   "c64ae142-9ed0-49ab-8acd-c2f6f63b1739"
  ]
 },
 "nbformat": 4,
 "nbformat_minor": 5
}
