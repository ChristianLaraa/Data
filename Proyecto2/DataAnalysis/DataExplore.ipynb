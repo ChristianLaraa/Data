{
 "cells": [
  {
   "cell_type": "code",
   "execution_count": 1,
   "id": "21092c82-4553-405b-bd1b-b15587ef288f",
   "metadata": {},
   "outputs": [],
   "source": [
    "import pandas as pd\n",
    "import matplotlib.pyplot as plt\n",
    "import seaborn as sns\n",
    "from collections import Counter"
   ]
  },
  {
   "cell_type": "code",
   "execution_count": 80,
   "id": "cadc4a16-1d80-4240-b97d-c046c0c8a8bb",
   "metadata": {},
   "outputs": [],
   "source": [
    "df = pd.read_csv('../Dataset/dataF.csv')"
   ]
  },
  {
   "cell_type": "code",
   "execution_count": 82,
   "id": "a4a3a00d-f2c6-41bc-9d6e-837225342a67",
   "metadata": {
    "panel-layout": {
     "height": 0,
     "visible": true,
     "width": 100
    }
   },
   "outputs": [
    {
     "name": "stdout",
     "output_type": "stream",
     "text": [
      "   id_marca          nombre  ano_creacion                        categoria  \\\n",
      "0         1  Palida studios          2019               Streetwear, Urbano   \n",
      "1         2    Tony Delfino          2008       Casual, Urbano, Streetwear   \n",
      "2         3            Wavy          2021               Streetwear, Urbano   \n",
      "3         4         Egoista          2022  Streetwear, Urbano, Alternativo   \n",
      "4         5        Laminero          2022                       Streetwear   \n",
      "\n",
      "                        ciudad_base disponibilidad  precios_promedio  \\\n",
      "0  Nezahualcoyotl, Estado de México          Ambos             750.0   \n",
      "1          Ciudad de México, Centro          Ambos            1100.0   \n",
      "2                  Ciudad de México          Ambos             700.0   \n",
      "3        Ecatepec, Estado de México          Ambos             600.0   \n",
      "4                  Ciudad de México         Online             700.0   \n",
      "\n",
      "   seguidores_ig  seguidores_tt  \n",
      "0          12400           1914  \n",
      "1         114000           1870  \n",
      "2          10000          23000  \n",
      "3          24500          34600  \n",
      "4            624           2717  \n"
     ]
    }
   ],
   "source": [
    "print(df.head())"
   ]
  },
  {
   "cell_type": "code",
   "execution_count": 84,
   "id": "019aadcb-1c1d-4999-93d2-6ab91bc76ede",
   "metadata": {
    "panel-layout": {
     "height": 0,
     "visible": true,
     "width": 100
    }
   },
   "outputs": [
    {
     "name": "stdout",
     "output_type": "stream",
     "text": [
      "<class 'pandas.core.frame.DataFrame'>\n",
      "RangeIndex: 118 entries, 0 to 117\n",
      "Data columns (total 9 columns):\n",
      " #   Column            Non-Null Count  Dtype  \n",
      "---  ------            --------------  -----  \n",
      " 0   id_marca          118 non-null    int64  \n",
      " 1   nombre            118 non-null    object \n",
      " 2   ano_creacion      118 non-null    int64  \n",
      " 3   categoria         118 non-null    object \n",
      " 4   ciudad_base       118 non-null    object \n",
      " 5   disponibilidad    118 non-null    object \n",
      " 6   precios_promedio  118 non-null    float64\n",
      " 7   seguidores_ig     118 non-null    int64  \n",
      " 8   seguidores_tt     118 non-null    int64  \n",
      "dtypes: float64(1), int64(4), object(4)\n",
      "memory usage: 8.4+ KB\n",
      "None\n"
     ]
    }
   ],
   "source": [
    "print(df.info())"
   ]
  },
  {
   "cell_type": "code",
   "execution_count": 86,
   "id": "b84c321e-c0c3-4c32-85a0-c272cd0996e4",
   "metadata": {
    "panel-layout": {
     "height": 0,
     "visible": true,
     "width": 100
    }
   },
   "outputs": [
    {
     "name": "stdout",
     "output_type": "stream",
     "text": [
      "         id_marca  ano_creacion  precios_promedio  seguidores_ig  \\\n",
      "count  118.000000    118.000000        118.000000     118.000000   \n",
      "mean    59.500000   2020.152542       1656.304576   18128.983051   \n",
      "std     34.207699      3.070753       1317.966001   39651.423787   \n",
      "min      1.000000   2008.000000          0.000000     237.000000   \n",
      "25%     30.250000   2019.000000        800.000000    2470.500000   \n",
      "50%     59.500000   2021.000000       1000.000000    6666.000000   \n",
      "75%     88.750000   2022.000000       2281.735000   15875.000000   \n",
      "max    118.000000   2025.000000       6495.000000  355000.000000   \n",
      "\n",
      "       seguidores_tt  \n",
      "count     118.000000  \n",
      "mean     8103.127119  \n",
      "std     26329.530096  \n",
      "min         0.000000  \n",
      "25%        65.500000  \n",
      "50%       484.000000  \n",
      "75%      4187.750000  \n",
      "max    178700.000000  \n"
     ]
    }
   ],
   "source": [
    "print(df.describe())"
   ]
  },
  {
   "cell_type": "code",
   "execution_count": 88,
   "id": "c64ae142-9ed0-49ab-8acd-c2f6f63b1739",
   "metadata": {
    "panel-layout": {
     "height": 0,
     "visible": true,
     "width": 100
    }
   },
   "outputs": [
    {
     "name": "stdout",
     "output_type": "stream",
     "text": [
      "id_marca            0\n",
      "nombre              0\n",
      "ano_creacion        0\n",
      "categoria           0\n",
      "ciudad_base         0\n",
      "disponibilidad      0\n",
      "precios_promedio    0\n",
      "seguidores_ig       0\n",
      "seguidores_tt       0\n",
      "dtype: int64\n"
     ]
    }
   ],
   "source": [
    "print(df.isnull().sum())"
   ]
  },
  {
   "cell_type": "markdown",
   "id": "58e28776-0738-46ec-a9c2-24b78424c63c",
   "metadata": {},
   "source": [
    "## Eliminar la columna de engagment redes, ya que no contiene contenido valido para el analisis"
   ]
  },
  {
   "cell_type": "code",
   "execution_count": 91,
   "id": "efdda03a-f697-4485-a0c8-c82803a73faf",
   "metadata": {},
   "outputs": [],
   "source": [
    "df.columns = df.columns.str.strip()"
   ]
  },
  {
   "cell_type": "markdown",
   "id": "64e87e03-ce96-4a2f-bd73-7692ecdc2f9c",
   "metadata": {},
   "source": [
    "df = df.drop ('engagment_redes', axis = 1)"
   ]
  },
  {
   "cell_type": "markdown",
   "id": "ab498429-bbe6-49b9-9a85-d072f3b3410e",
   "metadata": {},
   "source": [
    "Elimina la columna completa del dataset"
   ]
  },
  {
   "cell_type": "code",
   "execution_count": 95,
   "id": "bf1bcc79-acdb-45d9-9054-9b8b9021a50a",
   "metadata": {},
   "outputs": [
    {
     "name": "stdout",
     "output_type": "stream",
     "text": [
      "   id_marca          nombre  ano_creacion                        categoria  \\\n",
      "0         1  Palida studios          2019               Streetwear, Urbano   \n",
      "1         2    Tony Delfino          2008       Casual, Urbano, Streetwear   \n",
      "2         3            Wavy          2021               Streetwear, Urbano   \n",
      "3         4         Egoista          2022  Streetwear, Urbano, Alternativo   \n",
      "4         5        Laminero          2022                       Streetwear   \n",
      "\n",
      "                        ciudad_base disponibilidad  precios_promedio  \\\n",
      "0  Nezahualcoyotl, Estado de México          Ambos             750.0   \n",
      "1          Ciudad de México, Centro          Ambos            1100.0   \n",
      "2                  Ciudad de México          Ambos             700.0   \n",
      "3        Ecatepec, Estado de México          Ambos             600.0   \n",
      "4                  Ciudad de México         Online             700.0   \n",
      "\n",
      "   seguidores_ig  seguidores_tt  \n",
      "0          12400           1914  \n",
      "1         114000           1870  \n",
      "2          10000          23000  \n",
      "3          24500          34600  \n",
      "4            624           2717  \n"
     ]
    }
   ],
   "source": [
    "print(df.head())"
   ]
  },
  {
   "cell_type": "markdown",
   "id": "92815eda-57a6-43d2-b025-129db54a4e84",
   "metadata": {},
   "source": [
    "Verificamos que efectivamente esa columna no existe más en nuestro dataset"
   ]
  },
  {
   "cell_type": "code",
   "execution_count": 98,
   "id": "146993ab-a2d3-4b88-8cd6-e1921ad9c2f1",
   "metadata": {},
   "outputs": [
    {
     "name": "stdout",
     "output_type": "stream",
     "text": [
      "ciudad_base\n",
      "Ciudad de México                    73\n",
      "Nezahualcoyotl, Estado de México    12\n",
      "Guadalajara, Jalisco                 9\n",
      "Monterrey, Nuevo León                6\n",
      "Ciudad de México, Centro             3\n",
      "Ecatepec, Estado de México           3\n",
      "Tijuana, Baja California             2\n",
      "Colima                               2\n",
      "Culiacan, Sinaloa                    2\n",
      "Texcoco, Estado de México            1\n",
      "Queretaro                            1\n",
      "La piedad, Michoacan                 1\n",
      "León, Guanajuato                     1\n",
      "Puebla                               1\n",
      "Teotihuacan, Estado de México        1\n",
      "Name: count, dtype: int64\n"
     ]
    }
   ],
   "source": [
    "conteo = df['ciudad_base'].value_counts()\n",
    "print(conteo)"
   ]
  },
  {
   "cell_type": "markdown",
   "id": "90566d04-2e97-4e2f-878e-5b1e47d31f57",
   "metadata": {},
   "source": [
    "## Categorias ------------------------------"
   ]
  },
  {
   "cell_type": "code",
   "execution_count": 101,
   "id": "db9555ed-e89e-47c7-825a-b53f462ebc1b",
   "metadata": {},
   "outputs": [
    {
     "name": "stdout",
     "output_type": "stream",
     "text": [
      "categoria\n",
      "Streetwear                                     33\n",
      "Slow Fashion                                   27\n",
      "Jewelry                                         5\n",
      "Slow Fashion, Streetwear                        4\n",
      "Streetwear, Minimalista                         3\n",
      "Slow Fashion, Girls                             3\n",
      "Streetwear, Slow Fashion                        3\n",
      "High Fashion, Slow Fashion                      3\n",
      "Street wear                                     3\n",
      "Streetwear, Urbano                              2\n",
      "Slow Fashion, Streetwear                        1\n",
      "Streetwear, Bootleg Merch, Merch                1\n",
      "Bootleg Merch, Merch                            1\n",
      "Slow Fashion, Custom                            1\n",
      "Contemporary Mexican Folk, Slow Fashion         1\n",
      "Slow Fashion, Casual                            1\n",
      "Casual, Jackets                                 1\n",
      "Apparel store, Streetwear                       1\n",
      "Streetwear, Caps                                1\n",
      "Basicos, Streetwear                             1\n",
      "Streetwear, Urbano, Alternativo                 1\n",
      "Custom Merch                                    1\n",
      "Runnig                                          1\n",
      "Slow Fashion, Mexican Core                      1\n",
      "Ready to wear, Streetwear                       1\n",
      "Slow Fashion, Streetwear, Girls                 1\n",
      "Streetwear, Alternativo                         1\n",
      "Alternativo                                     1\n",
      "Slow Fashion, Black                             1\n",
      "Alternativo, Streetwear                         1\n",
      "Casual, Urbano, Streetwear                      1\n",
      "Streetwear, Black and White                     1\n",
      "Hand Bags, Slow Fashion                         1\n",
      "Streetwear, Slow Fashion, 1:1                   1\n",
      "Bootleg Merch, Original Bootleg, Streetwear     1\n",
      "High Fashion, Wearable Technology               1\n",
      "Custom, Slow Fashion                            1\n",
      "Bootleg Merch                                   1\n",
      "High Fashion, Streetwear                        1\n",
      "Handbags, Slow Fashion                          1\n",
      "Slow Fashion, Streetwear, Bags                  1\n",
      "Streetwear, Casual                              1\n",
      "Name: count, dtype: int64\n"
     ]
    }
   ],
   "source": [
    "conteoCat = df['categoria'].value_counts()\n",
    "print(conteoCat)"
   ]
  },
  {
   "cell_type": "code",
   "execution_count": 16,
   "id": "5c0ff8bf-4a6e-49e4-a5a0-3dd9efad2fe2",
   "metadata": {},
   "outputs": [],
   "source": [
    "df['categoria'] = df['categoria'].replace({'Streatweart': 'Streatwear', 'Stretwear' : 'Streatwear' })"
   ]
  },
  {
   "cell_type": "code",
   "execution_count": 103,
   "id": "88f15faa-a914-4253-9b14-09870601dc93",
   "metadata": {},
   "outputs": [
    {
     "data": {
      "text/plain": [
       "categoria\n",
       "Streetwear                                     33\n",
       "Slow Fashion                                   27\n",
       "Jewelry                                         5\n",
       "Slow Fashion, Streetwear                        4\n",
       "Streetwear, Minimalista                         3\n",
       "Slow Fashion, Girls                             3\n",
       "Streetwear, Slow Fashion                        3\n",
       "High Fashion, Slow Fashion                      3\n",
       "Street wear                                     3\n",
       "Streetwear, Urbano                              2\n",
       "Slow Fashion, Streetwear                        1\n",
       "Streetwear, Bootleg Merch, Merch                1\n",
       "Bootleg Merch, Merch                            1\n",
       "Slow Fashion, Custom                            1\n",
       "Contemporary Mexican Folk, Slow Fashion         1\n",
       "Slow Fashion, Casual                            1\n",
       "Casual, Jackets                                 1\n",
       "Apparel store, Streetwear                       1\n",
       "Streetwear, Caps                                1\n",
       "Basicos, Streetwear                             1\n",
       "Streetwear, Urbano, Alternativo                 1\n",
       "Custom Merch                                    1\n",
       "Runnig                                          1\n",
       "Slow Fashion, Mexican Core                      1\n",
       "Ready to wear, Streetwear                       1\n",
       "Slow Fashion, Streetwear, Girls                 1\n",
       "Streetwear, Alternativo                         1\n",
       "Alternativo                                     1\n",
       "Slow Fashion, Black                             1\n",
       "Alternativo, Streetwear                         1\n",
       "Casual, Urbano, Streetwear                      1\n",
       "Streetwear, Black and White                     1\n",
       "Hand Bags, Slow Fashion                         1\n",
       "Streetwear, Slow Fashion, 1:1                   1\n",
       "Bootleg Merch, Original Bootleg, Streetwear     1\n",
       "High Fashion, Wearable Technology               1\n",
       "Custom, Slow Fashion                            1\n",
       "Bootleg Merch                                   1\n",
       "High Fashion, Streetwear                        1\n",
       "Handbags, Slow Fashion                          1\n",
       "Slow Fashion, Streetwear, Bags                  1\n",
       "Streetwear, Casual                              1\n",
       "Name: count, dtype: int64"
      ]
     },
     "execution_count": 103,
     "metadata": {},
     "output_type": "execute_result"
    }
   ],
   "source": [
    "df['categoria'].value_counts()"
   ]
  },
  {
   "cell_type": "code",
   "execution_count": 18,
   "id": "ed44e96c-84a9-4cd6-af04-97cc353f2c0d",
   "metadata": {},
   "outputs": [],
   "source": [
    "df['categoria'] = df['categoria'].replace({'Streatwear' : 'Streetwear'})"
   ]
  },
  {
   "cell_type": "code",
   "execution_count": 19,
   "id": "7a0da17d-46d6-47ce-bf9b-52976c446d77",
   "metadata": {},
   "outputs": [],
   "source": [
    "df ['categoria'] = df['categoria'].replace({'Jewerly' : 'Jewelry'})"
   ]
  },
  {
   "cell_type": "code",
   "execution_count": 20,
   "id": "eafb5935-83ed-42df-88d4-77dbbac1fea3",
   "metadata": {},
   "outputs": [
    {
     "data": {
      "text/plain": [
       "categoria\n",
       "Streetwear                                     33\n",
       "Slow Fashion                                   16\n",
       "Slow Fashion, Streatwear                        4\n",
       "Jewelry                                         4\n",
       "Slow Fashion, Girls                             3\n",
       "High Fashion, Slow Fashion                      3\n",
       "Streatwear, Minimalista                         3\n",
       "Streatwear, Slow Fashion                        3\n",
       "Slof Fashion                                    1\n",
       "Bootleg Merch, Merch                            1\n",
       "Slow Fashion, Custom                            1\n",
       "Streatwear, Casual                              1\n",
       "Slow Fashion, StreatweR                         1\n",
       "Ready to wear, Streatwear                       1\n",
       "Slow Fashion, Mexican Core                      1\n",
       "Casueal, Jackets                                1\n",
       "Apparel store, Streatwear                       1\n",
       "Contemporary Mexican Folk, Slow Fashion         1\n",
       "Custom Merch                                    1\n",
       "Slow Fasion, Black                              1\n",
       "Slow Fashion, Casual                            1\n",
       "Basicos, Streatwear                             1\n",
       "Streatwear, Caps                                1\n",
       "Runnig                                          1\n",
       "Streetwear, urbano                              1\n",
       "Casual, Urbano, Streatwear                      1\n",
       "Slow Fashion, Streatwear, Girls                 1\n",
       "Streatwear, urbano                              1\n",
       "Streatwear, urbano, alternativo                 1\n",
       "Alternativo                                     1\n",
       "Alternativo, Streatwear                         1\n",
       "Streatwear, Black and White                     1\n",
       "High Fashion, Streatwear                        1\n",
       "Streatwear, Alternativo                         1\n",
       "Slow Fashion, Streatwear, Bags                  1\n",
       "Handmade Jewerly                                1\n",
       "Handbags, Slow Fashion                          1\n",
       "Bootleg Merch                                   1\n",
       "Custom, Slow Fashion                            1\n",
       "High Fashion, Wearable Technology               1\n",
       "Bootleg Merch, Original Bootleg, Streatwear     1\n",
       "Streatwear, Slow Fashion, 1:1                   1\n",
       "Hand Bags, Slow Fashion                         1\n",
       "Streatwear, Bootleg Merch, Merch                1\n",
       "Name: count, dtype: int64"
      ]
     },
     "execution_count": 20,
     "metadata": {},
     "output_type": "execute_result"
    }
   ],
   "source": [
    "df['categoria'].value_counts()"
   ]
  },
  {
   "cell_type": "code",
   "execution_count": 105,
   "id": "0c84807a-64f6-4012-bfbb-3bde174054b4",
   "metadata": {},
   "outputs": [
    {
     "name": "stdout",
     "output_type": "stream",
     "text": [
      "categoria\n",
      "Streetwear                   57\n",
      "Slow Fashion                 52\n",
      "High Fashion                  5\n",
      "Streetwear                    5\n",
      "Jewelry                       5\n",
      "Bootleg Merch                 4\n",
      "Casual                        4\n",
      "Alternativo                   4\n",
      "Girls                         4\n",
      "Urbano                        4\n",
      "Minimalista                   3\n",
      "Street wear                   3\n",
      "Custom                        2\n",
      "Merch                         2\n",
      "Custom Merch                  1\n",
      "Contemporary Mexican Folk     1\n",
      "Jackets                       1\n",
      "Apparel store                 1\n",
      "Caps                          1\n",
      "Basicos                       1\n",
      "Black and White               1\n",
      "Runnig                        1\n",
      "Wearable Technology           1\n",
      "Mexican Core                  1\n",
      "Ready to wear                 1\n",
      "Black                         1\n",
      "Bags                          1\n",
      "Hand Bags                     1\n",
      "Handbags                      1\n",
      "Original Bootleg              1\n",
      "1:1                           1\n",
      "Name: count, dtype: int64\n"
     ]
    }
   ],
   "source": [
    "categorias_expandida = df['categoria'].str.split(', ').explode()\n",
    "conteo_categorias = categorias_expandida.value_counts()\n",
    "\n",
    "print(conteo_categorias)"
   ]
  },
  {
   "cell_type": "code",
   "execution_count": 107,
   "id": "d8e7fa62-2836-4945-9207-ee8f7fa4a9ba",
   "metadata": {},
   "outputs": [
    {
     "data": {
      "text/plain": [
       "categoria\n",
       "Streetwear                                     33\n",
       "Slow Fashion                                   27\n",
       "Jewelry                                         5\n",
       "Slow Fashion, Streetwear                        4\n",
       "Streetwear, Minimalista                         3\n",
       "Slow Fashion, Girls                             3\n",
       "Streetwear, Slow Fashion                        3\n",
       "High Fashion, Slow Fashion                      3\n",
       "Street wear                                     3\n",
       "Streetwear, Urbano                              2\n",
       "Slow Fashion, Streetwear                        1\n",
       "Streetwear, Bootleg Merch, Merch                1\n",
       "Bootleg Merch, Merch                            1\n",
       "Slow Fashion, Custom                            1\n",
       "Contemporary Mexican Folk, Slow Fashion         1\n",
       "Slow Fashion, Casual                            1\n",
       "Casual, Jackets                                 1\n",
       "Apparel store, Streetwear                       1\n",
       "Streetwear, Caps                                1\n",
       "Basicos, Streetwear                             1\n",
       "Streetwear, Urbano, Alternativo                 1\n",
       "Custom Merch                                    1\n",
       "Runnig                                          1\n",
       "Slow Fashion, Mexican Core                      1\n",
       "Ready to wear, Streetwear                       1\n",
       "Slow Fashion, Streetwear, Girls                 1\n",
       "Streetwear, Alternativo                         1\n",
       "Alternativo                                     1\n",
       "Slow Fashion, Black                             1\n",
       "Alternativo, Streetwear                         1\n",
       "Casual, Urbano, Streetwear                      1\n",
       "Streetwear, Black and White                     1\n",
       "Hand Bags, Slow Fashion                         1\n",
       "Streetwear, Slow Fashion, 1:1                   1\n",
       "Bootleg Merch, Original Bootleg, Streetwear     1\n",
       "High Fashion, Wearable Technology               1\n",
       "Custom, Slow Fashion                            1\n",
       "Bootleg Merch                                   1\n",
       "High Fashion, Streetwear                        1\n",
       "Handbags, Slow Fashion                          1\n",
       "Slow Fashion, Streetwear, Bags                  1\n",
       "Streetwear, Casual                              1\n",
       "Name: count, dtype: int64"
      ]
     },
     "execution_count": 107,
     "metadata": {},
     "output_type": "execute_result"
    }
   ],
   "source": [
    "df['categoria'].value_counts()"
   ]
  },
  {
   "cell_type": "code",
   "execution_count": 23,
   "id": "668849d2-f934-473d-a7ed-2cebc5542f2c",
   "metadata": {},
   "outputs": [],
   "source": [
    "df['categoria'] = df['categoria'].replace({'Streetwear, urbano': 'Streetwear, Urbano'})"
   ]
  },
  {
   "cell_type": "markdown",
   "id": "cd106f48-6077-4023-8cd3-ad1182b61983",
   "metadata": {},
   "source": [
    "## Agrupar variaciones en las ciudades"
   ]
  },
  {
   "cell_type": "code",
   "execution_count": 25,
   "id": "4f4dbfda-51bb-4e9b-91d2-197672c2e1e2",
   "metadata": {},
   "outputs": [],
   "source": [
    "df['ciudad_base'] = df['ciudad_base'].replace({'Monterrey, Nuevo Leon': 'Monterrey, Nuevo León'})"
   ]
  },
  {
   "cell_type": "code",
   "execution_count": 109,
   "id": "b97f6c8a-89bc-4025-af83-5bbfe38465ea",
   "metadata": {},
   "outputs": [
    {
     "name": "stdout",
     "output_type": "stream",
     "text": [
      "ciudad_base\n",
      "Ciudad de México                    73\n",
      "Nezahualcoyotl, Estado de México    12\n",
      "Guadalajara, Jalisco                 9\n",
      "Monterrey, Nuevo León                6\n",
      "Ciudad de México, Centro             3\n",
      "Ecatepec, Estado de México           3\n",
      "Tijuana, Baja California             2\n",
      "Colima                               2\n",
      "Culiacan, Sinaloa                    2\n",
      "Texcoco, Estado de México            1\n",
      "Queretaro                            1\n",
      "La piedad, Michoacan                 1\n",
      "León, Guanajuato                     1\n",
      "Puebla                               1\n",
      "Teotihuacan, Estado de México        1\n",
      "Name: count, dtype: int64\n"
     ]
    }
   ],
   "source": [
    "print(conteo)"
   ]
  },
  {
   "cell_type": "code",
   "execution_count": 27,
   "id": "02d5ddca-61cc-49bf-aa51-ed3a53e88033",
   "metadata": {},
   "outputs": [],
   "source": [
    "df['ciudad_base'] = df['ciudad_base'].replace({'Monterrey Nuevo León': 'Monterrey, Nuevo León'})"
   ]
  },
  {
   "cell_type": "code",
   "execution_count": 111,
   "id": "b9043b08-4124-4d90-838e-d59814d182d3",
   "metadata": {},
   "outputs": [
    {
     "name": "stdout",
     "output_type": "stream",
     "text": [
      "ciudad_base\n",
      "Ciudad de México                    73\n",
      "Nezahualcoyotl, Estado de México    12\n",
      "Guadalajara, Jalisco                 9\n",
      "Monterrey, Nuevo León                6\n",
      "Ciudad de México, Centro             3\n",
      "Ecatepec, Estado de México           3\n",
      "Tijuana, Baja California             2\n",
      "Colima                               2\n",
      "Culiacan, Sinaloa                    2\n",
      "Texcoco, Estado de México            1\n",
      "Queretaro                            1\n",
      "La piedad, Michoacan                 1\n",
      "León, Guanajuato                     1\n",
      "Puebla                               1\n",
      "Teotihuacan, Estado de México        1\n",
      "Name: count, dtype: int64\n"
     ]
    }
   ],
   "source": [
    "print(conteo)"
   ]
  },
  {
   "cell_type": "markdown",
   "id": "d3beb2a1-25cf-467a-9252-8d40421d1912",
   "metadata": {},
   "source": [
    "remplazar los valores de Monterrey"
   ]
  },
  {
   "cell_type": "code",
   "execution_count": 30,
   "id": "2cf87396-9d72-433f-ad30-c1eef592f29f",
   "metadata": {},
   "outputs": [],
   "source": [
    "df['ciudad_base'] = df['ciudad_base'].replace({'Manzanillo, Colima' : 'Colima'})"
   ]
  },
  {
   "cell_type": "code",
   "execution_count": 113,
   "id": "7bc8f9ec-d965-4bd6-955e-a9825631a1f8",
   "metadata": {},
   "outputs": [
    {
     "name": "stdout",
     "output_type": "stream",
     "text": [
      "ciudad_base\n",
      "Ciudad de México                    73\n",
      "Nezahualcoyotl, Estado de México    12\n",
      "Guadalajara, Jalisco                 9\n",
      "Monterrey, Nuevo León                6\n",
      "Ciudad de México, Centro             3\n",
      "Ecatepec, Estado de México           3\n",
      "Tijuana, Baja California             2\n",
      "Colima                               2\n",
      "Culiacan, Sinaloa                    2\n",
      "Texcoco, Estado de México            1\n",
      "Queretaro                            1\n",
      "La piedad, Michoacan                 1\n",
      "León, Guanajuato                     1\n",
      "Puebla                               1\n",
      "Teotihuacan, Estado de México        1\n",
      "Name: count, dtype: int64\n"
     ]
    }
   ],
   "source": [
    "print(conteo)"
   ]
  },
  {
   "cell_type": "markdown",
   "id": "ac4c68bd-69e7-4dd2-8a6f-7c2e73e53b7b",
   "metadata": {},
   "source": [
    "## Obtener promedios - EDA\n"
   ]
  },
  {
   "cell_type": "code",
   "execution_count": 115,
   "id": "cd083574-ad61-487f-b188-dde98aaa68c3",
   "metadata": {},
   "outputs": [
    {
     "data": {
      "text/plain": [
       "2020.1525423728813"
      ]
     },
     "execution_count": 115,
     "metadata": {},
     "output_type": "execute_result"
    }
   ],
   "source": [
    "df[\"ano_creacion\"].mean()"
   ]
  },
  {
   "cell_type": "code",
   "execution_count": 117,
   "id": "c1334c6b-732b-4bc3-b9fd-2f46c2eefd5e",
   "metadata": {},
   "outputs": [
    {
     "data": {
      "text/plain": [
       "ano_creacion\n",
       "2022    21\n",
       "2019    17\n",
       "2021    17\n",
       "2023    17\n",
       "2020    16\n",
       "2018     9\n",
       "2024     6\n",
       "2016     4\n",
       "2017     3\n",
       "2008     2\n",
       "2012     2\n",
       "2015     2\n",
       "2025     1\n",
       "2009     1\n",
       "Name: count, dtype: int64"
      ]
     },
     "execution_count": 117,
     "metadata": {},
     "output_type": "execute_result"
    }
   ],
   "source": [
    "df['ano_creacion'].value_counts()"
   ]
  },
  {
   "cell_type": "markdown",
   "id": "b5ad1975-bc61-4dc3-ad56-bc6c72e3cb00",
   "metadata": {},
   "source": [
    "### Disponibilidad"
   ]
  },
  {
   "cell_type": "code",
   "execution_count": 120,
   "id": "cd529593-dc5e-45d9-8283-8b73241a055b",
   "metadata": {},
   "outputs": [
    {
     "data": {
      "text/plain": [
       "disponibilidad\n",
       "Ambos     70\n",
       "Online    48\n",
       "Name: count, dtype: int64"
      ]
     },
     "execution_count": 120,
     "metadata": {},
     "output_type": "execute_result"
    }
   ],
   "source": [
    "df['disponibilidad'].value_counts()"
   ]
  },
  {
   "cell_type": "markdown",
   "id": "74c62f23-910e-4935-9165-3cc7f19f7417",
   "metadata": {},
   "source": [
    "### Precios promedio"
   ]
  },
  {
   "cell_type": "code",
   "execution_count": 123,
   "id": "42cc61cc-f064-45e3-be9b-1e2039d4425c",
   "metadata": {},
   "outputs": [
    {
     "data": {
      "text/plain": [
       "1656.3045762711865"
      ]
     },
     "execution_count": 123,
     "metadata": {},
     "output_type": "execute_result"
    }
   ],
   "source": [
    "df['precios_promedio'].mean()"
   ]
  },
  {
   "cell_type": "markdown",
   "id": "c15fef3c-c428-4cc8-be93-9e63e6eddc36",
   "metadata": {},
   "source": [
    "### Seguidores en Instagram"
   ]
  },
  {
   "cell_type": "code",
   "execution_count": 126,
   "id": "a7b12484-a464-41c6-97d5-fea15d82a211",
   "metadata": {},
   "outputs": [
    {
     "data": {
      "text/plain": [
       "18128.98305084746"
      ]
     },
     "execution_count": 126,
     "metadata": {},
     "output_type": "execute_result"
    }
   ],
   "source": [
    "df['seguidores_ig'].mean()"
   ]
  },
  {
   "cell_type": "markdown",
   "id": "0299b703-0aa4-4029-9d5d-801436f6a439",
   "metadata": {},
   "source": [
    "### Seguidores en Tik Tok"
   ]
  },
  {
   "cell_type": "code",
   "execution_count": 129,
   "id": "0fc10259-c379-4ec2-9aca-a9e07857a8ed",
   "metadata": {},
   "outputs": [
    {
     "data": {
      "text/plain": [
       "8103.127118644068"
      ]
     },
     "execution_count": 129,
     "metadata": {},
     "output_type": "execute_result"
    }
   ],
   "source": [
    "df['seguidores_tt'].mean()"
   ]
  },
  {
   "cell_type": "markdown",
   "id": "374abc52-76f8-4433-a95b-95aa82ef1e0a",
   "metadata": {},
   "source": [
    "## Descargar la nueva version del dataset con las modificaciones con el .replace"
   ]
  },
  {
   "cell_type": "code",
   "execution_count": 132,
   "id": "b1e79247-b6ac-4e64-bec9-3924d088d808",
   "metadata": {},
   "outputs": [],
   "source": [
    "df.to_csv(\"marcas_moda_actualizado.csv\", index=False)"
   ]
  },
  {
   "cell_type": "markdown",
   "id": "1f27f635-80ba-4348-a03b-2e83c62d4a1f",
   "metadata": {},
   "source": [
    "## Agregar nuevos datos, con Marcas ----"
   ]
  },
  {
   "cell_type": "code",
   "execution_count": 135,
   "id": "08398d5c-8b32-44f8-91f6-de5912310865",
   "metadata": {},
   "outputs": [
    {
     "data": {
      "text/html": [
       "<div>\n",
       "<style scoped>\n",
       "    .dataframe tbody tr th:only-of-type {\n",
       "        vertical-align: middle;\n",
       "    }\n",
       "\n",
       "    .dataframe tbody tr th {\n",
       "        vertical-align: top;\n",
       "    }\n",
       "\n",
       "    .dataframe thead th {\n",
       "        text-align: right;\n",
       "    }\n",
       "</style>\n",
       "<table border=\"1\" class=\"dataframe\">\n",
       "  <thead>\n",
       "    <tr style=\"text-align: right;\">\n",
       "      <th></th>\n",
       "      <th>id_marca</th>\n",
       "      <th>nombre</th>\n",
       "      <th>ano_creacion</th>\n",
       "      <th>categoria</th>\n",
       "      <th>ciudad_base</th>\n",
       "      <th>disponibilidad</th>\n",
       "      <th>precios_promedio</th>\n",
       "      <th>seguidores_ig</th>\n",
       "      <th>seguidores_tt</th>\n",
       "    </tr>\n",
       "  </thead>\n",
       "  <tbody>\n",
       "    <tr>\n",
       "      <th>0</th>\n",
       "      <td>1</td>\n",
       "      <td>Palida studios</td>\n",
       "      <td>2019</td>\n",
       "      <td>Streetwear, Urbano</td>\n",
       "      <td>Nezahualcoyotl, Estado de México</td>\n",
       "      <td>Ambos</td>\n",
       "      <td>750.0</td>\n",
       "      <td>12400</td>\n",
       "      <td>1914</td>\n",
       "    </tr>\n",
       "    <tr>\n",
       "      <th>1</th>\n",
       "      <td>2</td>\n",
       "      <td>Tony Delfino</td>\n",
       "      <td>2008</td>\n",
       "      <td>Casual, Urbano, Streetwear</td>\n",
       "      <td>Ciudad de México, Centro</td>\n",
       "      <td>Ambos</td>\n",
       "      <td>1100.0</td>\n",
       "      <td>114000</td>\n",
       "      <td>1870</td>\n",
       "    </tr>\n",
       "    <tr>\n",
       "      <th>2</th>\n",
       "      <td>3</td>\n",
       "      <td>Wavy</td>\n",
       "      <td>2021</td>\n",
       "      <td>Streetwear, Urbano</td>\n",
       "      <td>Ciudad de México</td>\n",
       "      <td>Ambos</td>\n",
       "      <td>700.0</td>\n",
       "      <td>10000</td>\n",
       "      <td>23000</td>\n",
       "    </tr>\n",
       "    <tr>\n",
       "      <th>3</th>\n",
       "      <td>4</td>\n",
       "      <td>Egoista</td>\n",
       "      <td>2022</td>\n",
       "      <td>Streetwear, Urbano, Alternativo</td>\n",
       "      <td>Ecatepec, Estado de México</td>\n",
       "      <td>Ambos</td>\n",
       "      <td>600.0</td>\n",
       "      <td>24500</td>\n",
       "      <td>34600</td>\n",
       "    </tr>\n",
       "    <tr>\n",
       "      <th>4</th>\n",
       "      <td>5</td>\n",
       "      <td>Laminero</td>\n",
       "      <td>2022</td>\n",
       "      <td>Streetwear</td>\n",
       "      <td>Ciudad de México</td>\n",
       "      <td>Online</td>\n",
       "      <td>700.0</td>\n",
       "      <td>624</td>\n",
       "      <td>2717</td>\n",
       "    </tr>\n",
       "  </tbody>\n",
       "</table>\n",
       "</div>"
      ],
      "text/plain": [
       "   id_marca          nombre  ano_creacion                        categoria  \\\n",
       "0         1  Palida studios          2019               Streetwear, Urbano   \n",
       "1         2    Tony Delfino          2008       Casual, Urbano, Streetwear   \n",
       "2         3            Wavy          2021               Streetwear, Urbano   \n",
       "3         4         Egoista          2022  Streetwear, Urbano, Alternativo   \n",
       "4         5        Laminero          2022                       Streetwear   \n",
       "\n",
       "                        ciudad_base disponibilidad  precios_promedio  \\\n",
       "0  Nezahualcoyotl, Estado de México          Ambos             750.0   \n",
       "1          Ciudad de México, Centro          Ambos            1100.0   \n",
       "2                  Ciudad de México          Ambos             700.0   \n",
       "3        Ecatepec, Estado de México          Ambos             600.0   \n",
       "4                  Ciudad de México         Online             700.0   \n",
       "\n",
       "   seguidores_ig  seguidores_tt  \n",
       "0          12400           1914  \n",
       "1         114000           1870  \n",
       "2          10000          23000  \n",
       "3          24500          34600  \n",
       "4            624           2717  "
      ]
     },
     "execution_count": 135,
     "metadata": {},
     "output_type": "execute_result"
    }
   ],
   "source": [
    "df.head()"
   ]
  },
  {
   "cell_type": "code",
   "execution_count": null,
   "id": "bfb52f07-5bf1-40cb-aced-c64081545fb4",
   "metadata": {},
   "outputs": [],
   "source": [
    "nueva_data = {'id_marca': '106', 'nombre': 'TAZIA', 'categoria': 'Slow Fashion', 'ciudad_base', 'Puebla', 'disponibilidad':'Online', 'precios_promedio':'2500', \"seguidores_ig\":'25600', 'seguidores_tt': '14000'}"
   ]
  }
 ],
 "metadata": {
  "kernelspec": {
   "display_name": "Python [conda env:base] *",
   "language": "python",
   "name": "conda-base-py"
  },
  "language_info": {
   "codemirror_mode": {
    "name": "ipython",
    "version": 3
   },
   "file_extension": ".py",
   "mimetype": "text/x-python",
   "name": "python",
   "nbconvert_exporter": "python",
   "pygments_lexer": "ipython3",
   "version": "3.12.7"
  },
  "panel-cell-order": [
   "a4a3a00d-f2c6-41bc-9d6e-837225342a67",
   "019aadcb-1c1d-4999-93d2-6ab91bc76ede",
   "b84c321e-c0c3-4c32-85a0-c272cd0996e4",
   "c64ae142-9ed0-49ab-8acd-c2f6f63b1739"
  ]
 },
 "nbformat": 4,
 "nbformat_minor": 5
}
