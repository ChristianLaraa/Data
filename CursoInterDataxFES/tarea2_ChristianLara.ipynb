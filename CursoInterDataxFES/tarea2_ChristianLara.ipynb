{
 "cells": [
  {
   "cell_type": "code",
   "execution_count": 1,
   "id": "8688d759-1914-4c05-9eb4-2f66c61e9ec5",
   "metadata": {},
   "outputs": [],
   "source": [
    "import pandas as pd\n",
    "import numpy as np"
   ]
  },
  {
   "cell_type": "code",
   "execution_count": 3,
   "id": "2124deda-2001-4771-8211-761c5f729d5e",
   "metadata": {},
   "outputs": [
    {
     "name": "stdout",
     "output_type": "stream",
     "text": [
      "      Nombre    V1    V2    V3    V4\n",
      "0       Jose  3948  3612   376  1688\n",
      "1      Pedro  1442  1390  4215  2591\n",
      "2      Maria   525  2393  2974  2088\n",
      "3       Juan   599  1492   405  2815\n",
      "4  Sebastian  1792  1792  1584  3477\n",
      "5        Noe  3711  3732   342  4128\n",
      "6  Framcisco  3451  3151  4213  4874\n",
      "7      Tomas  4873  2295  3704  4340\n",
      "8  Alejandro  4400  4400  3568  4915\n"
     ]
    }
   ],
   "source": [
    "\"\"\"Nombre,V1,V2,V3,V4\n",
    "Jose,3984,3612,376,1688\n",
    "Pedro,1442,1390,4215,2591\n",
    "Maria,525,2393,2974,2088\n",
    "Juan,599,1492,405,2815\n",
    "Sebastian,1792,1584,768,3477\n",
    "Noe,3711,3732,342,4128\n",
    "Francisco,3151,4213,3588,4874\n",
    "Tomas,4873,2295,3704,4340\n",
    "Alejandro,4400,2558,3568,4915\n",
    "\"\"\"\n",
    "data = {\n",
    "    'Nombre' : ['Jose', 'Pedro', 'Maria', 'Juan', 'Sebastian', 'Noe', \n",
    "                'Framcisco', 'Tomas', 'Alejandro'],\n",
    "    'V1' : [3948, 1442, 525, 599, 1792, 3711, 3451, 4873, 4400],\n",
    "    'V2' : [3612, 1390, 2393, 1492, 1792, 3732, 3151, 2295, 4400],\n",
    "    'V3' : [376, 4215, 2974, 405, 1584, 342, 4213, 3704, 3568],\n",
    "    'V4' : [1688, 2591, 2088, 2815, 3477, 4128, 4874, 4340, 4915]    \n",
    "}\n",
    "\n",
    "df = pd.DataFrame(data)\n",
    "print(df)"
   ]
  },
  {
   "cell_type": "code",
   "execution_count": 5,
   "id": "dbe88d9d-a9e2-4ec5-b202-f1f5006f3faa",
   "metadata": {},
   "outputs": [
    {
     "data": {
      "text/plain": [
       "<bound method DataFrame.info of       Nombre    V1    V2    V3    V4\n",
       "0       Jose  3948  3612   376  1688\n",
       "1      Pedro  1442  1390  4215  2591\n",
       "2      Maria   525  2393  2974  2088\n",
       "3       Juan   599  1492   405  2815\n",
       "4  Sebastian  1792  1792  1584  3477\n",
       "5        Noe  3711  3732   342  4128\n",
       "6  Framcisco  3451  3151  4213  4874\n",
       "7      Tomas  4873  2295  3704  4340\n",
       "8  Alejandro  4400  4400  3568  4915>"
      ]
     },
     "execution_count": 5,
     "metadata": {},
     "output_type": "execute_result"
    }
   ],
   "source": [
    "df.info"
   ]
  },
  {
   "cell_type": "code",
   "execution_count": 7,
   "id": "f219d7f4-ed15-4985-98c8-56fbadfdf08c",
   "metadata": {},
   "outputs": [
    {
     "data": {
      "text/plain": [
       "<bound method NDFrame.describe of       Nombre    V1    V2    V3    V4\n",
       "0       Jose  3948  3612   376  1688\n",
       "1      Pedro  1442  1390  4215  2591\n",
       "2      Maria   525  2393  2974  2088\n",
       "3       Juan   599  1492   405  2815\n",
       "4  Sebastian  1792  1792  1584  3477\n",
       "5        Noe  3711  3732   342  4128\n",
       "6  Framcisco  3451  3151  4213  4874\n",
       "7      Tomas  4873  2295  3704  4340\n",
       "8  Alejandro  4400  4400  3568  4915>"
      ]
     },
     "execution_count": 7,
     "metadata": {},
     "output_type": "execute_result"
    }
   ],
   "source": [
    "df.describe"
   ]
  },
  {
   "cell_type": "code",
   "execution_count": 14,
   "id": "3455a171-7ba0-414f-a718-eaaed89547ec",
   "metadata": {},
   "outputs": [
    {
     "data": {
      "text/html": [
       "<div>\n",
       "<style scoped>\n",
       "    .dataframe tbody tr th:only-of-type {\n",
       "        vertical-align: middle;\n",
       "    }\n",
       "\n",
       "    .dataframe tbody tr th {\n",
       "        vertical-align: top;\n",
       "    }\n",
       "\n",
       "    .dataframe thead th {\n",
       "        text-align: right;\n",
       "    }\n",
       "</style>\n",
       "<table border=\"1\" class=\"dataframe\">\n",
       "  <thead>\n",
       "    <tr style=\"text-align: right;\">\n",
       "      <th></th>\n",
       "      <th>Nombre</th>\n",
       "      <th>V1</th>\n",
       "      <th>V2</th>\n",
       "      <th>V3</th>\n",
       "      <th>V4</th>\n",
       "    </tr>\n",
       "  </thead>\n",
       "  <tbody>\n",
       "    <tr>\n",
       "      <th>0</th>\n",
       "      <td>Jose</td>\n",
       "      <td>3948</td>\n",
       "      <td>3612</td>\n",
       "      <td>376</td>\n",
       "      <td>1688</td>\n",
       "    </tr>\n",
       "    <tr>\n",
       "      <th>1</th>\n",
       "      <td>Pedro</td>\n",
       "      <td>1442</td>\n",
       "      <td>1390</td>\n",
       "      <td>4215</td>\n",
       "      <td>2591</td>\n",
       "    </tr>\n",
       "    <tr>\n",
       "      <th>2</th>\n",
       "      <td>Maria</td>\n",
       "      <td>525</td>\n",
       "      <td>2393</td>\n",
       "      <td>2974</td>\n",
       "      <td>2088</td>\n",
       "    </tr>\n",
       "    <tr>\n",
       "      <th>3</th>\n",
       "      <td>Juan</td>\n",
       "      <td>599</td>\n",
       "      <td>1492</td>\n",
       "      <td>405</td>\n",
       "      <td>2815</td>\n",
       "    </tr>\n",
       "    <tr>\n",
       "      <th>4</th>\n",
       "      <td>Sebastian</td>\n",
       "      <td>1792</td>\n",
       "      <td>1792</td>\n",
       "      <td>1584</td>\n",
       "      <td>3477</td>\n",
       "    </tr>\n",
       "    <tr>\n",
       "      <th>5</th>\n",
       "      <td>Noe</td>\n",
       "      <td>3711</td>\n",
       "      <td>3732</td>\n",
       "      <td>342</td>\n",
       "      <td>4128</td>\n",
       "    </tr>\n",
       "    <tr>\n",
       "      <th>6</th>\n",
       "      <td>Framcisco</td>\n",
       "      <td>3451</td>\n",
       "      <td>3151</td>\n",
       "      <td>4213</td>\n",
       "      <td>4874</td>\n",
       "    </tr>\n",
       "    <tr>\n",
       "      <th>7</th>\n",
       "      <td>Tomas</td>\n",
       "      <td>4873</td>\n",
       "      <td>2295</td>\n",
       "      <td>3704</td>\n",
       "      <td>4340</td>\n",
       "    </tr>\n",
       "    <tr>\n",
       "      <th>8</th>\n",
       "      <td>Alejandro</td>\n",
       "      <td>4400</td>\n",
       "      <td>4400</td>\n",
       "      <td>3568</td>\n",
       "      <td>4915</td>\n",
       "    </tr>\n",
       "  </tbody>\n",
       "</table>\n",
       "</div>"
      ],
      "text/plain": [
       "      Nombre    V1    V2    V3    V4\n",
       "0       Jose  3948  3612   376  1688\n",
       "1      Pedro  1442  1390  4215  2591\n",
       "2      Maria   525  2393  2974  2088\n",
       "3       Juan   599  1492   405  2815\n",
       "4  Sebastian  1792  1792  1584  3477\n",
       "5        Noe  3711  3732   342  4128\n",
       "6  Framcisco  3451  3151  4213  4874\n",
       "7      Tomas  4873  2295  3704  4340\n",
       "8  Alejandro  4400  4400  3568  4915"
      ]
     },
     "execution_count": 14,
     "metadata": {},
     "output_type": "execute_result"
    }
   ],
   "source": [
    "df.tail(10)"
   ]
  },
  {
   "cell_type": "code",
   "execution_count": 11,
   "id": "c78cc9eb-3092-4369-91af-a140ef2cfe94",
   "metadata": {},
   "outputs": [
    {
     "name": "stdout",
     "output_type": "stream",
     "text": [
      "0         JOSE\n",
      "1        PEDRO\n",
      "2        MARIA\n",
      "3         JUAN\n",
      "4    SEBASTIAN\n",
      "5          NOE\n",
      "6    FRAMCISCO\n",
      "7        TOMAS\n",
      "8    ALEJANDRO\n",
      "Name: Nombre, dtype: object\n"
     ]
    }
   ],
   "source": [
    "print(df.Nombre.apply(str.upper))"
   ]
  },
  {
   "cell_type": "markdown",
   "id": "54792c8a-912f-43d1-813b-51756f93c1eb",
   "metadata": {},
   "source": [
    "## Convierte los nombrea a mayusculas\n"
   ]
  },
  {
   "cell_type": "code",
   "execution_count": null,
   "id": "3a8a92c8-c778-485d-a5cf-e20d34c0a491",
   "metadata": {},
   "outputs": [],
   "source": []
  }
 ],
 "metadata": {
  "kernelspec": {
   "display_name": "Python [conda env:base]",
   "language": "python",
   "name": "conda-base-py"
  },
  "language_info": {
   "codemirror_mode": {
    "name": "ipython",
    "version": 3
   },
   "file_extension": ".py",
   "mimetype": "text/x-python",
   "name": "python",
   "nbconvert_exporter": "python",
   "pygments_lexer": "ipython3",
   "version": "3.12.7"
  }
 },
 "nbformat": 4,
 "nbformat_minor": 5
}
