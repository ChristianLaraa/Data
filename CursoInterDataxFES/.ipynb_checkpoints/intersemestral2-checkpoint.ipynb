{
  "nbformat": 4,
  "nbformat_minor": 0,
  "metadata": {
    "colab": {
      "provenance": []
    },
    "kernelspec": {
      "name": "python3",
      "display_name": "Python 3"
    },
    "language_info": {
      "name": "python"
    }
  },
  "cells": [
    {
      "cell_type": "code",
      "source": [
        "import pandas as pd\n",
        "import numpy as np"
      ],
      "metadata": {
        "id": "Z15gfs2j4cTq"
      },
      "execution_count": null,
      "outputs": []
    },
    {
      "cell_type": "code",
      "execution_count": null,
      "metadata": {
        "id": "mN93mE7T4OTK"
      },
      "outputs": [],
      "source": [
        "# ejemplo 1\n",
        "ventas = pd.Series([120, 150, 130, 170, 160, 155, 300, 145, 180, 210, 190, 220], name=\"ventas\")\n"
      ]
    },
    {
      "cell_type": "code",
      "source": [
        "#ejemplo 2\n",
        "temperatura = pd.Series({'2025': 25, '2024': 28, '2023': 31, '2022': 29, '2021': 28}, name = 'Temperatura')\n"
      ],
      "metadata": {
        "id": "2K9f1RE5-QPf"
      },
      "execution_count": null,
      "outputs": []
    },
    {
      "cell_type": "markdown",
      "source": [
        "# acceso a elementos de Series\n",
        "\n",
        "- Por posición ```serie[19]```\n",
        "- Por etiqueta ```serie['clave']```\n",
        "- Por localización entera con ```serie.iloc[10]```\n",
        "- Por localizacion por llave   ```serie.loc['2023']```\n",
        "- Slicing  ```serie[inicio:stop:step]```\n",
        "- Condicional. ```serie[serie > 10]```\n",
        "\n",
        "\n"
      ],
      "metadata": {
        "id": "hVW5Nnoh-e-v"
      }
    },
    {
      "cell_type": "code",
      "source": [
        "# por posición\n",
        "\n"
      ],
      "metadata": {
        "id": "p7lESm1Z_1_0"
      },
      "execution_count": null,
      "outputs": []
    },
    {
      "cell_type": "code",
      "source": [
        "# Por etiqueta\n",
        "# print(ventas['2'])\n"
      ],
      "metadata": {
        "id": "fNAg9ufTAROm"
      },
      "execution_count": null,
      "outputs": []
    },
    {
      "cell_type": "code",
      "source": [
        "# iloc[]\n",
        "\n"
      ],
      "metadata": {
        "id": "LYPukpExAoFn"
      },
      "execution_count": null,
      "outputs": []
    },
    {
      "cell_type": "code",
      "source": [
        "# loc[]\n"
      ],
      "metadata": {
        "id": "NLUIHcuxByWL"
      },
      "execution_count": null,
      "outputs": []
    },
    {
      "cell_type": "code",
      "source": [
        "# slicing\n",
        "\n",
        "\n",
        "# temperaturas\n"
      ],
      "metadata": {
        "id": "FlclIxWkCC45"
      },
      "execution_count": null,
      "outputs": []
    },
    {
      "cell_type": "code",
      "source": [
        "# filtro condicional\n"
      ],
      "metadata": {
        "id": "CJ9xsQ-sD7pW"
      },
      "execution_count": null,
      "outputs": []
    },
    {
      "cell_type": "markdown",
      "source": [
        "# .apply()\n",
        "permite aplicar una función personalizada a cada elemento de una Serie, uno por uno.\n",
        "\n",
        "\n",
        "```python\n",
        "def funcion(x):\n",
        "    return x * 2\n",
        "\n",
        "serie.apply(funcion)\n",
        "```\n",
        "Donde función puede ser:\n",
        "\n",
        "1. Una función definida con def\n",
        "1. Una lambda\n",
        "1. Una función de Python (str.upper, abs, etc.)\n",
        "\n",
        "\n"
      ],
      "metadata": {
        "id": "skFBZGILEghP"
      }
    },
    {
      "cell_type": "code",
      "source": [
        "# con una funcion\n",
        "def doble(x):\n",
        "    return x*2\n",
        "\n",
        "ventas.apply(doble)"
      ],
      "metadata": {
        "id": "MgQwplXlEf0h"
      },
      "execution_count": null,
      "outputs": []
    },
    {
      "cell_type": "code",
      "source": [
        "#lambda\n"
      ],
      "metadata": {
        "id": "UVXGLDVwpBQK"
      },
      "execution_count": null,
      "outputs": []
    },
    {
      "cell_type": "code",
      "source": [
        "# Clasificar en barato y caro\n",
        "ventas.describe()\n",
        "\n"
      ],
      "metadata": {
        "id": "FhqO6LZQplVA"
      },
      "execution_count": null,
      "outputs": []
    },
    {
      "cell_type": "code",
      "source": [
        "# metodos de clases existentes\n",
        "nombres = pd.Series(['Jose', 'mario', 'diego'])\n"
      ],
      "metadata": {
        "id": "j1lfDYGV1757"
      },
      "execution_count": null,
      "outputs": []
    },
    {
      "cell_type": "markdown",
      "source": [
        "# Limpieza de datos en Series de pandas\n",
        "En la vida real, los datos muchas veces Vienen incompletos (NaN, None, cadenas vacías, valores fuera de rango, etc.)\n",
        "\n",
        "Tienen errores de tipo (números como texto, valores inválidos)\n",
        "Presentan duplicados o valores inconsistentes\n",
        "\n",
        "**Pandas** nos ofrece herramientas para detectar, limpiar y transformar estos datos fácilmente.\n",
        "\n",
        "Herramientas:\n",
        "\n",
        "### 🧹 Herramientas comunes para limpieza de datos en Series de pandas\n",
        "\n",
        "| Método / Función                        | Descripción                                                                 |\n",
        "|----------------------------------------|-----------------------------------------------------------------------------|\n",
        "| `isna()` / `isnull()`                  | Detecta valores nulos (`NaN`, `None`)                                      |\n",
        "| `notna()` / `notnull()`                | Detecta valores **no nulos**                                               |\n",
        "| `fillna(valor)`                        | Rellena los valores nulos con un valor fijo                                |\n",
        "| `dropna()`                             | Elimina los elementos que tienen valores nulos                             |\n",
        "| `replace(valor_original, valor_nuevo)` | Reemplaza valores específicos                                               |\n",
        "| `astype(tipo)`                         | Convierte los elementos a un tipo de dato específico (por ejemplo, `int`)  |\n",
        "| `pd.to_numeric(..., errors='coerce')`  | Convierte a numérico, errores se vuelven `NaN` si se usa `errors='coerce'` |\n",
        "| `drop_duplicates()`                    | Elimina elementos duplicados en la Serie                                   |\n"
      ],
      "metadata": {
        "id": "Gn5YjM7z4AeX"
      }
    },
    {
      "cell_type": "markdown",
      "source": [
        "# Inplace = True\n",
        "Realiza los cambios directamente en la serie.\n"
      ],
      "metadata": {
        "id": "0Pp_lAhC7Vwi"
      }
    },
    {
      "cell_type": "code",
      "source": [
        "datos = pd.Series([\n",
        "    '25',\n",
        "    '32',\n",
        "    None,\n",
        "    'desconocido',\n",
        "    '41',\n",
        "    '25',\n",
        "    '',\n",
        "    'N/A',\n",
        "    'error',\n",
        "    '29'\n",
        "])\n",
        "\n",
        "print(datos)"
      ],
      "metadata": {
        "id": "UzZRYO4Z2sEh"
      },
      "execution_count": null,
      "outputs": []
    },
    {
      "cell_type": "code",
      "source": [
        "# Detectar valores None (nulos)\n",
        "\n",
        "\n",
        "# remplazar\n",
        "\n",
        "\n",
        "\n",
        "# conversion a numeros\n",
        "\n",
        "# eliminar duplicados\n",
        "numeros= numeros.drop_duplicates()"
      ],
      "metadata": {
        "id": "2-f9UDTH5QP-"
      },
      "execution_count": null,
      "outputs": []
    },
    {
      "cell_type": "code",
      "source": [
        "# llenar los NaN con la media\n"
      ],
      "metadata": {
        "id": "dV-Va5RZ5UC7"
      },
      "execution_count": null,
      "outputs": []
    },
    {
      "cell_type": "markdown",
      "source": [
        "#  transformar Series\n",
        "\n",
        "\n",
        "*   map(función)\n",
        "*   apply(función)\n",
        "*   where(condición, otro) -- Los que no cumplen\n",
        "* mask(condición, otro) -- los que si cumplen.\n",
        "\n"
      ],
      "metadata": {
        "id": "bu0BKTo28urW"
      }
    },
    {
      "cell_type": "code",
      "source": [
        "ventas = pd.Series([150, 200, 300, 120, 90])\n",
        "\n",
        "# Conservar solo los valores mayores a 150, el resto como 'Bajo'\n"
      ],
      "metadata": {
        "id": "9w6uniuj7IL_"
      },
      "execution_count": null,
      "outputs": []
    },
    {
      "cell_type": "code",
      "source": [
        "# mask\n",
        "print(ventas)\n"
      ],
      "metadata": {
        "id": "VsSvKCpT9poQ"
      },
      "execution_count": null,
      "outputs": []
    }
  ]
}