{
  "nbformat": 4,
  "nbformat_minor": 0,
  "metadata": {
    "colab": {
      "provenance": []
    },
    "kernelspec": {
      "name": "python3",
      "display_name": "Python 3"
    },
    "language_info": {
      "name": "python"
    }
  },
  "cells": [
    {
      "cell_type": "code",
      "source": [
        "import pandas as pd\n",
        "import numpy as np"
      ],
      "metadata": {
        "id": "zXku1W7xJCl-"
      },
      "execution_count": null,
      "outputs": []
    },
    {
      "cell_type": "markdown",
      "source": [],
      "metadata": {
        "id": "hN53rSqzUe-H"
      }
    },
    {
      "cell_type": "markdown",
      "source": [
        "# DataFrames en pandas\n",
        "\n",
        "- Es una estructura de datos **bidimensional** (tipo tabla), similar a una hoja de cálculo o tabla SQL.\n",
        "- Cada columna puede tener un tipo de dato diferente (números, texto, booleanos, etc.).\n",
        "- Los DataFrames son la estructura **más usada en pandas** para análisis de datos.\n",
        "\n",
        "# ¿Cómo se crea un DataFrame?\n",
        "\n",
        "- A partir de un **diccionario de listas**\n",
        "- Desde una **Serie de pandas**\n",
        "- Desde un **archivo CSV, Excel, JSON**\n"
      ],
      "metadata": {
        "id": "b90UtfnbBG7z"
      }
    },
    {
      "cell_type": "code",
      "source": [
        "# diccionario de lista\n",
        "data = {\n",
        "    'Nombre': ['Ana', 'Luis', 'Carlos', 'Marta'],\n",
        "    'Edad': [20, 22, 21, 23],\n",
        "    'Carrera': ['Ingeniería', 'Derecho', 'Arquitectura', 'Ingeniería']\n",
        "}\n",
        "\n",
        "df = pd.DataFrame(data)\n",
        "\n",
        "print(df)"
      ],
      "metadata": {
        "id": "YDx6_6g4PzGA"
      },
      "execution_count": null,
      "outputs": []
    },
    {
      "cell_type": "code",
      "source": [
        "# deesde listas"
      ],
      "metadata": {
        "id": "YOf5T4t-MjkA"
      },
      "execution_count": null,
      "outputs": []
    },
    {
      "cell_type": "code",
      "execution_count": null,
      "metadata": {
        "id": "6GK4JSAYBC50"
      },
      "outputs": [],
      "source": [
        "# desde dicts\n",
        "ids = [1,2,3]\n",
        "productos = ['papas', 'pepsi', 'oreo']\n",
        "precios = [18.5, 19.0, 22.5]\n",
        "#nuevo = pd.DataFrame(columns=['id','producto', 'precio'],data= (ids,productos,precios) )\n",
        "\n"
      ]
    },
    {
      "cell_type": "markdown",
      "source": [
        "# informacion básica del DF\n",
        "df.info()"
      ],
      "metadata": {
        "id": "RCInYO5GQzZF"
      }
    },
    {
      "cell_type": "code",
      "source": [
        "# info()"
      ],
      "metadata": {
        "id": "GvyyqYfPQ7SV"
      },
      "execution_count": null,
      "outputs": []
    },
    {
      "cell_type": "code",
      "source": [
        "# Filtrar\n"
      ],
      "metadata": {
        "id": "wsIihWMwRcYK"
      },
      "execution_count": null,
      "outputs": []
    },
    {
      "cell_type": "code",
      "source": [
        "# describe()\n"
      ],
      "metadata": {
        "id": "Sud2CR-2RKQd"
      },
      "execution_count": null,
      "outputs": []
    },
    {
      "cell_type": "code",
      "source": [
        "# ver columnas\n"
      ],
      "metadata": {
        "id": "WtrZ3h3jUuwF"
      },
      "execution_count": null,
      "outputs": []
    },
    {
      "cell_type": "code",
      "source": [
        "#selccionar columna\n"
      ],
      "metadata": {
        "id": "gI1MjE05UwxI"
      },
      "execution_count": null,
      "outputs": []
    },
    {
      "cell_type": "code",
      "source": [
        "# fittrar por condicional\n"
      ],
      "metadata": {
        "id": "idkqA6RyU9Z8"
      },
      "execution_count": null,
      "outputs": []
    },
    {
      "cell_type": "code",
      "source": [
        "# Calcular si son mayores de edad\n"
      ],
      "metadata": {
        "id": "SvTCEDHLVPLr"
      },
      "execution_count": null,
      "outputs": []
    },
    {
      "cell_type": "code",
      "source": [
        "# Cambiar 'Derecho' por 'Leyes'\n"
      ],
      "metadata": {
        "id": "kS5GoKB1VX6S"
      },
      "execution_count": null,
      "outputs": []
    },
    {
      "cell_type": "code",
      "source": [
        "# Agregamos un duplicado\n",
        "\n",
        "# Eliminar duplicados\n",
        "\n"
      ],
      "metadata": {
        "id": "EwZvlJloVfPZ"
      },
      "execution_count": null,
      "outputs": []
    },
    {
      "cell_type": "markdown",
      "source": [
        "# Abrir archivos a DF\n",
        "\n",
        "\n",
        "```python\n",
        "f_csv = pd.read_csv('archivo.csv')\n",
        "df_csv = pd.read_csv('archivo.csv', delimiter=';', encoding='utf-8')\n",
        "\n",
        "df_excel = pd.read_excel('archivo.xlsx', sheet_name='Hoja1')\n",
        "df_excel = pd.read_excel('archivo.xlsx', sheet_name='Hoja1', usecols=['Columna1', 'Columna2'])\n",
        "#openpyxl.\n",
        "\n",
        "\n",
        "df_json = pd.read_json('archivo.json')\n",
        "df_json = pd.read_json('archivo.json', orient='records')\n",
        "\n",
        "```\n",
        "\n"
      ],
      "metadata": {
        "id": "ve1Fos7oWApl"
      }
    },
    {
      "cell_type": "code",
      "source": [],
      "metadata": {
        "id": "U_8HuNR0V-dg"
      },
      "execution_count": null,
      "outputs": []
    }
  ]
}