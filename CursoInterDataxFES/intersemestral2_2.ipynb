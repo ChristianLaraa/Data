{
 "cells": [
  {
   "cell_type": "code",
   "execution_count": 1,
   "metadata": {
    "id": "zXku1W7xJCl-"
   },
   "outputs": [],
   "source": [
    "import pandas as pd\n",
    "import numpy as np"
   ]
  },
  {
   "cell_type": "markdown",
   "metadata": {
    "id": "hN53rSqzUe-H"
   },
   "source": []
  },
  {
   "cell_type": "markdown",
   "metadata": {
    "id": "b90UtfnbBG7z"
   },
   "source": [
    "# DataFrames en pandas\n",
    "\n",
    "- Es una estructura de datos **bidimensional** (tipo tabla), similar a una hoja de cálculo o tabla SQL.\n",
    "- Cada columna puede tener un tipo de dato diferente (números, texto, booleanos, etc.).\n",
    "- Los DataFrames son la estructura **más usada en pandas** para análisis de datos.\n",
    "\n",
    "# ¿Cómo se crea un DataFrame?\n",
    "\n",
    "- A partir de un **diccionario de listas**\n",
    "- Desde una **Serie de pandas**\n",
    "- Desde un **archivo CSV, Excel, JSON**\n"
   ]
  },
  {
   "cell_type": "code",
   "execution_count": 27,
   "metadata": {
    "id": "YDx6_6g4PzGA"
   },
   "outputs": [
    {
     "name": "stdout",
     "output_type": "stream",
     "text": [
      "   Nombre  Edad       Carrera\n",
      "0     Ana    20    Ingeniería\n",
      "1    Luis    22       Derecho\n",
      "2  Carlos    21  Arquitectura\n",
      "3   Marta    23    Ingeniería\n"
     ]
    }
   ],
   "source": [
    "# diccionario de lista\n",
    "data = {\n",
    "    'Nombre': ['Ana', 'Luis', 'Carlos', 'Marta'],\n",
    "    'Edad': [20, 22, 21, 23],\n",
    "    'Carrera': ['Ingeniería', 'Derecho', 'Arquitectura', 'Ingeniería']\n",
    "}\n",
    "\n",
    "df = pd.DataFrame(data)\n",
    "\n",
    "print(df)"
   ]
  },
  {
   "cell_type": "code",
   "execution_count": 13,
   "metadata": {
    "id": "YOf5T4t-MjkA"
   },
   "outputs": [
    {
     "name": "stdout",
     "output_type": "stream",
     "text": [
      "<class 'pandas.core.frame.DataFrame'>\n",
      "RangeIndex: 3 entries, 0 to 2\n",
      "Data columns (total 2 columns):\n",
      " #   Column  Non-Null Count  Dtype \n",
      "---  ------  --------------  ----- \n",
      " 0   id      3 non-null      int64 \n",
      " 1   valor   3 non-null      object\n",
      "dtypes: int64(1), object(1)\n",
      "memory usage: 180.0+ bytes\n"
     ]
    }
   ],
   "source": [
    "# deesde listas\n",
    "demo = pd.DataFrame(data=[ [1, 'a'],[2, 'b'],[3, 'c']], columns=['id', 'valor'] )\n",
    "demo.info()"
   ]
  },
  {
   "cell_type": "code",
   "execution_count": 15,
   "metadata": {
    "id": "6GK4JSAYBC50"
   },
   "outputs": [
    {
     "name": "stdout",
     "output_type": "stream",
     "text": [
      "   ids productos  precios\n",
      "0    1     papas     18.5\n",
      "1    2     pepsi     19.0\n",
      "2    3      oreo     22.5\n"
     ]
    }
   ],
   "source": [
    "# desde dicts\n",
    "ids = [1,2,3]\n",
    "productos = ['papas', 'pepsi', 'oreo']\n",
    "precios = [18.5, 19.0, 22.5]\n",
    "\n",
    "##DataFrame\n",
    "data2 = {\n",
    "    'ids': [1, 2, 3],\n",
    "    'productos': ['papas', 'pepsi', 'oreo'],\n",
    "    'precios': [18.5, 19.0, 22.5]\n",
    "}\n",
    "\n",
    "df = pd.DataFrame(data2)\n",
    "print(df)\n",
    "\n",
    "\n",
    "\n"
   ]
  },
  {
   "cell_type": "markdown",
   "metadata": {
    "id": "RCInYO5GQzZF"
   },
   "source": [
    "# informacion básica del DF\n",
    "df.info()"
   ]
  },
  {
   "cell_type": "code",
   "execution_count": 29,
   "metadata": {
    "id": "GvyyqYfPQ7SV"
   },
   "outputs": [
    {
     "data": {
      "text/plain": [
       "<bound method DataFrame.info of    Nombre  Edad       Carrera\n",
       "0     Ana    20    Ingeniería\n",
       "1    Luis    22       Derecho\n",
       "2  Carlos    21  Arquitectura\n",
       "3   Marta    23    Ingeniería>"
      ]
     },
     "execution_count": 29,
     "metadata": {},
     "output_type": "execute_result"
    }
   ],
   "source": [
    "# info()\n",
    "df.info"
   ]
  },
  {
   "cell_type": "code",
   "execution_count": 31,
   "metadata": {
    "id": "wsIihWMwRcYK"
   },
   "outputs": [
    {
     "ename": "SyntaxError",
     "evalue": "invalid syntax. Perhaps you forgot a comma? (2555386196.py, line 2)",
     "output_type": "error",
     "traceback": [
      "\u001b[0;36m  Cell \u001b[0;32mIn[31], line 2\u001b[0;36m\u001b[0m\n\u001b[0;31m    df[ df[]]\u001b[0m\n\u001b[0m        ^\u001b[0m\n\u001b[0;31mSyntaxError\u001b[0m\u001b[0;31m:\u001b[0m invalid syntax. Perhaps you forgot a comma?\n"
     ]
    }
   ],
   "source": [
    "# Filtrar\n",
    "df[ df[]]"
   ]
  },
  {
   "cell_type": "code",
   "execution_count": 33,
   "metadata": {
    "id": "Sud2CR-2RKQd"
   },
   "outputs": [
    {
     "data": {
      "text/plain": [
       "<bound method NDFrame.describe of    Nombre  Edad       Carrera\n",
       "0     Ana    20    Ingeniería\n",
       "1    Luis    22       Derecho\n",
       "2  Carlos    21  Arquitectura\n",
       "3   Marta    23    Ingeniería>"
      ]
     },
     "execution_count": 33,
     "metadata": {},
     "output_type": "execute_result"
    }
   ],
   "source": [
    "# describe()\n",
    "df.describe"
   ]
  },
  {
   "cell_type": "code",
   "execution_count": 35,
   "metadata": {
    "id": "WtrZ3h3jUuwF"
   },
   "outputs": [
    {
     "data": {
      "text/plain": [
       "Index(['Nombre', 'Edad', 'Carrera'], dtype='object')"
      ]
     },
     "execution_count": 35,
     "metadata": {},
     "output_type": "execute_result"
    }
   ],
   "source": [
    "# ver columnas\n",
    "df.columns"
   ]
  },
  {
   "cell_type": "code",
   "execution_count": 37,
   "metadata": {
    "id": "gI1MjE05UwxI"
   },
   "outputs": [
    {
     "data": {
      "text/plain": [
       "'Arquitectura'"
      ]
     },
     "execution_count": 37,
     "metadata": {},
     "output_type": "execute_result"
    }
   ],
   "source": [
    "#selccionar columna\n",
    "df['Carrera'].iloc[2]"
   ]
  },
  {
   "cell_type": "code",
   "execution_count": null,
   "metadata": {
    "id": "idkqA6RyU9Z8"
   },
   "outputs": [],
   "source": [
    "# fittrar por condicional\n"
   ]
  },
  {
   "cell_type": "code",
   "execution_count": 43,
   "metadata": {
    "id": "SvTCEDHLVPLr"
   },
   "outputs": [
    {
     "name": "stderr",
     "output_type": "stream",
     "text": [
      "/var/folders/5j/_y0ygj096j5dn9mcsz4md2740000gn/T/ipykernel_45161/1179101271.py:2: FutureWarning: A value is trying to be set on a copy of a DataFrame or Series through chained assignment using an inplace method.\n",
      "The behavior will change in pandas 3.0. This inplace method will never work because the intermediate object on which we are setting values always behaves as a copy.\n",
      "\n",
      "For example, when doing 'df[col].method(value, inplace=True)', try using 'df.method({col: value}, inplace=True)' or df[col] = df[col].method(value) instead, to perform the operation inplace on the original object.\n",
      "\n",
      "\n",
      "  df['Carrera'].replace('Derecho', 'Leyes', inplace=True)\n"
     ]
    },
    {
     "data": {
      "text/html": [
       "<div>\n",
       "<style scoped>\n",
       "    .dataframe tbody tr th:only-of-type {\n",
       "        vertical-align: middle;\n",
       "    }\n",
       "\n",
       "    .dataframe tbody tr th {\n",
       "        vertical-align: top;\n",
       "    }\n",
       "\n",
       "    .dataframe thead th {\n",
       "        text-align: right;\n",
       "    }\n",
       "</style>\n",
       "<table border=\"1\" class=\"dataframe\">\n",
       "  <thead>\n",
       "    <tr style=\"text-align: right;\">\n",
       "      <th></th>\n",
       "      <th>Nombre</th>\n",
       "      <th>Edad</th>\n",
       "      <th>Carrera</th>\n",
       "    </tr>\n",
       "  </thead>\n",
       "  <tbody>\n",
       "    <tr>\n",
       "      <th>0</th>\n",
       "      <td>Ana</td>\n",
       "      <td>20</td>\n",
       "      <td>Ingeniería</td>\n",
       "    </tr>\n",
       "    <tr>\n",
       "      <th>1</th>\n",
       "      <td>Luis</td>\n",
       "      <td>22</td>\n",
       "      <td>Leyes</td>\n",
       "    </tr>\n",
       "    <tr>\n",
       "      <th>2</th>\n",
       "      <td>Carlos</td>\n",
       "      <td>21</td>\n",
       "      <td>Arquitectura</td>\n",
       "    </tr>\n",
       "    <tr>\n",
       "      <th>3</th>\n",
       "      <td>Marta</td>\n",
       "      <td>23</td>\n",
       "      <td>Ingeniería</td>\n",
       "    </tr>\n",
       "  </tbody>\n",
       "</table>\n",
       "</div>"
      ],
      "text/plain": [
       "   Nombre  Edad       Carrera\n",
       "0     Ana    20    Ingeniería\n",
       "1    Luis    22         Leyes\n",
       "2  Carlos    21  Arquitectura\n",
       "3   Marta    23    Ingeniería"
      ]
     },
     "execution_count": 43,
     "metadata": {},
     "output_type": "execute_result"
    }
   ],
   "source": [
    "# Calcular si son mayores de edad\n",
    "df['Carrera'].replace('Derecho', 'Leyes', inplace=True)\n",
    "df"
   ]
  },
  {
   "cell_type": "code",
   "execution_count": null,
   "metadata": {
    "id": "kS5GoKB1VX6S"
   },
   "outputs": [],
   "source": [
    "# Cambiar 'Derecho' por 'Leyes'\n"
   ]
  },
  {
   "cell_type": "code",
   "execution_count": null,
   "metadata": {
    "id": "EwZvlJloVfPZ"
   },
   "outputs": [],
   "source": [
    "# Agregamos un duplicado\n",
    "\n",
    "# Eliminar duplicados\n",
    "\n"
   ]
  },
  {
   "cell_type": "markdown",
   "metadata": {
    "id": "ve1Fos7oWApl"
   },
   "source": [
    "# Abrir archivos a DF\n",
    "\n",
    "\n",
    "```python\n",
    "f_csv = pd.read_csv('archivo.csv')\n",
    "df_csv = pd.read_csv('archivo.csv', delimiter=';', encoding='utf-8')\n",
    "\n",
    "df_excel = pd.read_excel('archivo.xlsx', sheet_name='Hoja1')\n",
    "df_excel = pd.read_excel('archivo.xlsx', sheet_name='Hoja1', usecols=['Columna1', 'Columna2'])\n",
    "#openpyxl.\n",
    "\n",
    "\n",
    "df_json = pd.read_json('archivo.json')\n",
    "df_json = pd.read_json('archivo.json', orient='records')\n",
    "\n",
    "```\n",
    "\n"
   ]
  },
  {
   "cell_type": "code",
   "execution_count": null,
   "metadata": {
    "id": "U_8HuNR0V-dg"
   },
   "outputs": [],
   "source": []
  }
 ],
 "metadata": {
  "colab": {
   "provenance": []
  },
  "kernelspec": {
   "display_name": "Python [conda env:base] *",
   "language": "python",
   "name": "conda-base-py"
  },
  "language_info": {
   "codemirror_mode": {
    "name": "ipython",
    "version": 3
   },
   "file_extension": ".py",
   "mimetype": "text/x-python",
   "name": "python",
   "nbconvert_exporter": "python",
   "pygments_lexer": "ipython3",
   "version": "3.12.7"
  }
 },
 "nbformat": 4,
 "nbformat_minor": 4
}
