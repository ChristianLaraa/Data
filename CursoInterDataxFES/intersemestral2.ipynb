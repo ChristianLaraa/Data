{
 "cells": [
  {
   "cell_type": "code",
   "execution_count": 1,
   "metadata": {
    "id": "Z15gfs2j4cTq"
   },
   "outputs": [],
   "source": [
    "import pandas as pd\n",
    "import numpy as np"
   ]
  },
  {
   "cell_type": "code",
   "execution_count": 3,
   "metadata": {
    "id": "mN93mE7T4OTK"
   },
   "outputs": [],
   "source": [
    "# ejemplo 1\n",
    "ventas = pd.Series([120, 150, 130, 170, 160, 155, 300, 145, 180, 210, 190, 220], name=\"ventas\")\n"
   ]
  },
  {
   "cell_type": "code",
   "execution_count": 5,
   "metadata": {
    "id": "2K9f1RE5-QPf"
   },
   "outputs": [],
   "source": [
    "#ejemplo 2\n",
    "temperatura = pd.Series({'2025': 25, '2024': 28, '2023': 31, '2022': 29, '2021': 28}, name = 'Temperatura')\n"
   ]
  },
  {
   "cell_type": "markdown",
   "metadata": {
    "id": "hVW5Nnoh-e-v"
   },
   "source": [
    "# acceso a elementos de Series\n",
    "\n",
    "- Por posición ```serie[19]```\n",
    "- Por etiqueta ```serie['clave']```\n",
    "- Por localización entera con ```serie.iloc[10]```\n",
    "- Por localizacion por llave   ```serie.loc['2023']```\n",
    "- Slicing  ```serie[inicio:stop:step]```\n",
    "- Condicional. ```serie[serie > 10]```\n",
    "\n",
    "\n"
   ]
  },
  {
   "cell_type": "code",
   "execution_count": 24,
   "metadata": {
    "id": "p7lESm1Z_1_0"
   },
   "outputs": [
    {
     "data": {
      "text/plain": [
       "160"
      ]
     },
     "execution_count": 24,
     "metadata": {},
     "output_type": "execute_result"
    }
   ],
   "source": [
    "# por posición\n",
    "ventas[4]"
   ]
  },
  {
   "cell_type": "code",
   "execution_count": 42,
   "metadata": {
    "id": "fNAg9ufTAROm"
   },
   "outputs": [],
   "source": [
    "# Por etiqueta\n",
    "# print(ventas['2'])\n"
   ]
  },
  {
   "cell_type": "code",
   "execution_count": 46,
   "metadata": {
    "id": "LYPukpExAoFn"
   },
   "outputs": [
    {
     "data": {
      "text/plain": [
       "210"
      ]
     },
     "execution_count": 46,
     "metadata": {},
     "output_type": "execute_result"
    }
   ],
   "source": [
    "# iloc[]\n",
    "ventas.iloc[9]\n"
   ]
  },
  {
   "cell_type": "code",
   "execution_count": 50,
   "metadata": {
    "id": "NLUIHcuxByWL"
   },
   "outputs": [
    {
     "data": {
      "text/plain": [
       "31"
      ]
     },
     "execution_count": 50,
     "metadata": {},
     "output_type": "execute_result"
    }
   ],
   "source": [
    "# loc[]\n",
    "temperatura.loc['2023']"
   ]
  },
  {
   "cell_type": "code",
   "execution_count": 58,
   "metadata": {
    "id": "FlclIxWkCC45"
   },
   "outputs": [
    {
     "name": "stdout",
     "output_type": "stream",
     "text": [
      "5    155\n",
      "6    300\n",
      "7    145\n",
      "8    180\n",
      "Name: ventas, dtype: int64\n",
      "Series([], Name: Temperatura, dtype: int64)\n"
     ]
    }
   ],
   "source": [
    "# slicing\n",
    "print(ventas[5:9:1])\n",
    "\n",
    "\n",
    "# temperaturas\n",
    "print(temperatura[3:2:1])\n"
   ]
  },
  {
   "cell_type": "code",
   "execution_count": null,
   "metadata": {
    "id": "CJ9xsQ-sD7pW"
   },
   "outputs": [],
   "source": [
    "# filtro condicional\n"
   ]
  },
  {
   "cell_type": "markdown",
   "metadata": {
    "id": "skFBZGILEghP"
   },
   "source": [
    "# .apply()\n",
    "permite aplicar una función personalizada a cada elemento de una Serie, uno por uno.\n",
    "\n",
    "\n",
    "```python\n",
    "def funcion(x):\n",
    "    return x * 2\n",
    "\n",
    "serie.apply(funcion)\n",
    "```\n",
    "Donde función puede ser:\n",
    "\n",
    "1. Una función definida con def\n",
    "1. Una lambda\n",
    "1. Una función de Python (str.upper, abs, etc.)\n",
    "\n",
    "\n"
   ]
  },
  {
   "cell_type": "code",
   "execution_count": 8,
   "metadata": {
    "id": "MgQwplXlEf0h"
   },
   "outputs": [
    {
     "data": {
      "text/plain": [
       "0     240\n",
       "1     300\n",
       "2     260\n",
       "3     340\n",
       "4     320\n",
       "5     310\n",
       "6     600\n",
       "7     290\n",
       "8     360\n",
       "9     420\n",
       "10    380\n",
       "11    440\n",
       "Name: ventas, dtype: int64"
      ]
     },
     "execution_count": 8,
     "metadata": {},
     "output_type": "execute_result"
    }
   ],
   "source": [
    "# con una funcion\n",
    "def doble(x):\n",
    "    return x*2\n",
    "\n",
    "ventas.apply(doble)"
   ]
  },
  {
   "cell_type": "code",
   "execution_count": 30,
   "metadata": {
    "id": "UVXGLDVwpBQK"
   },
   "outputs": [
    {
     "name": "stdout",
     "output_type": "stream",
     "text": [
      "restarle 2\n",
      "0     118\n",
      "1     148\n",
      "2     128\n",
      "3     168\n",
      "4     158\n",
      "5     153\n",
      "6     298\n",
      "7     143\n",
      "8     178\n",
      "9     208\n",
      "10    188\n",
      "11    218\n",
      "Name: ventas, dtype: int64\n",
      "sumarle 20\n",
      "0     140\n",
      "1     170\n",
      "2     150\n",
      "3     190\n",
      "4     180\n",
      "5     175\n",
      "6     320\n",
      "7     165\n",
      "8     200\n",
      "9     230\n",
      "10    210\n",
      "11    240\n",
      "Name: ventas, dtype: int64\n",
      "cubo\n",
      "0      1728000\n",
      "1      3375000\n",
      "2      2197000\n",
      "3      4913000\n",
      "4      4096000\n",
      "5      3723875\n",
      "6     27000000\n",
      "7      3048625\n",
      "8      5832000\n",
      "9      9261000\n",
      "10     6859000\n",
      "11    10648000\n",
      "Name: ventas, dtype: int64\n",
      "multiplicacion\n",
      "0     14400\n",
      "1     22500\n",
      "2     16900\n",
      "3     28900\n",
      "4     25600\n",
      "5     24025\n",
      "6     90000\n",
      "7     21025\n",
      "8     32400\n",
      "9     44100\n",
      "10    36100\n",
      "11    48400\n",
      "Name: ventas, dtype: int64\n"
     ]
    }
   ],
   "source": [
    "#lambda\n",
    "print(\"restarle 2\")\n",
    "print(ventas.apply( lambda y : y-2 ))\n",
    "print(\"sumarle 20\")\n",
    "print(ventas.apply( lambda y : y+20 ))\n",
    "print(\"cubo\")\n",
    "print(ventas.apply( lambda y : y*y*y ))\n",
    "print(\"multiplicacion\")\n",
    "print(ventas.apply( lambda y : y*y ))\n"
   ]
  },
  {
   "cell_type": "code",
   "execution_count": 76,
   "metadata": {
    "id": "FhqO6LZQplVA"
   },
   "outputs": [
    {
     "name": "stdout",
     "output_type": "stream",
     "text": [
      "0     bajas\n",
      "1     bajas\n",
      "2     bajas\n",
      "3     altas\n",
      "4     altas\n",
      "5     bajas\n",
      "6     altas\n",
      "7     bajas\n",
      "8     altas\n",
      "9     altas\n",
      "10    altas\n",
      "11    altas\n",
      "Name: ventas, dtype: object\n",
      "0     120\n",
      "1     150\n",
      "2     130\n",
      "3     170\n",
      "4     160\n",
      "5     155\n",
      "6     300\n",
      "7     145\n",
      "8     180\n",
      "9     210\n",
      "10    190\n",
      "11    220\n",
      "Name: ventas, dtype: int64\n"
     ]
    }
   ],
   "source": [
    "# Clasificar en barato y caro\n",
    "ventas.describe()\n",
    "\n",
    "#categorizar\n",
    "def clasificar(v):\n",
    "    if v > 155 :\n",
    "        return \"altas\"\n",
    "    else:\n",
    "        return \"bajas\"\n",
    "\n",
    "\n",
    "ventas_cat = ventas.apply(clasificar)\n",
    "print(ventas_cat)\n",
    "\n",
    "print(ventas)"
   ]
  },
  {
   "cell_type": "code",
   "execution_count": 86,
   "metadata": {
    "id": "j1lfDYGV1757"
   },
   "outputs": [
    {
     "name": "stdout",
     "output_type": "stream",
     "text": [
      "0     JOSE\n",
      "1    MARIO\n",
      "2    DIEGO\n",
      "dtype: object\n",
      "0     jose\n",
      "1    mario\n",
      "2    diego\n",
      "dtype: object\n",
      "0     Jose\n",
      "1    Mario\n",
      "2    Diego\n",
      "dtype: object\n"
     ]
    },
    {
     "data": {
      "text/plain": [
       "['__add__',\n",
       " '__class__',\n",
       " '__contains__',\n",
       " '__delattr__',\n",
       " '__dir__',\n",
       " '__doc__',\n",
       " '__eq__',\n",
       " '__format__',\n",
       " '__ge__',\n",
       " '__getattribute__',\n",
       " '__getitem__',\n",
       " '__getnewargs__',\n",
       " '__getstate__',\n",
       " '__gt__',\n",
       " '__hash__',\n",
       " '__init__',\n",
       " '__init_subclass__',\n",
       " '__iter__',\n",
       " '__le__',\n",
       " '__len__',\n",
       " '__lt__',\n",
       " '__mod__',\n",
       " '__mul__',\n",
       " '__ne__',\n",
       " '__new__',\n",
       " '__reduce__',\n",
       " '__reduce_ex__',\n",
       " '__repr__',\n",
       " '__rmod__',\n",
       " '__rmul__',\n",
       " '__setattr__',\n",
       " '__sizeof__',\n",
       " '__str__',\n",
       " '__subclasshook__',\n",
       " 'capitalize',\n",
       " 'casefold',\n",
       " 'center',\n",
       " 'count',\n",
       " 'encode',\n",
       " 'endswith',\n",
       " 'expandtabs',\n",
       " 'find',\n",
       " 'format',\n",
       " 'format_map',\n",
       " 'index',\n",
       " 'isalnum',\n",
       " 'isalpha',\n",
       " 'isascii',\n",
       " 'isdecimal',\n",
       " 'isdigit',\n",
       " 'isidentifier',\n",
       " 'islower',\n",
       " 'isnumeric',\n",
       " 'isprintable',\n",
       " 'isspace',\n",
       " 'istitle',\n",
       " 'isupper',\n",
       " 'join',\n",
       " 'ljust',\n",
       " 'lower',\n",
       " 'lstrip',\n",
       " 'maketrans',\n",
       " 'partition',\n",
       " 'removeprefix',\n",
       " 'removesuffix',\n",
       " 'replace',\n",
       " 'rfind',\n",
       " 'rindex',\n",
       " 'rjust',\n",
       " 'rpartition',\n",
       " 'rsplit',\n",
       " 'rstrip',\n",
       " 'split',\n",
       " 'splitlines',\n",
       " 'startswith',\n",
       " 'strip',\n",
       " 'swapcase',\n",
       " 'title',\n",
       " 'translate',\n",
       " 'upper',\n",
       " 'zfill']"
      ]
     },
     "execution_count": 86,
     "metadata": {},
     "output_type": "execute_result"
    }
   ],
   "source": [
    "# metodos de clases existentes\n",
    "nombres = pd.Series(['Jose', 'mario', 'diego'])\n",
    "print(nombres.apply(str.upper)) #convierte los valores a mayusculas\n",
    "print(nombres.apply(str.lower)) #convierte los valores a minusculas\n",
    "print(nombres.apply(str.capitalize)) #primera letra en mayuscula\n",
    "\n",
    "\n",
    "dir(str) #lista el tipo de dato"
   ]
  },
  {
   "cell_type": "markdown",
   "metadata": {
    "id": "Gn5YjM7z4AeX"
   },
   "source": [
    "# Limpieza de datos en Series de pandas\n",
    "En la vida real, los datos muchas veces Vienen incompletos (NaN, None, cadenas vacías, valores fuera de rango, etc.)\n",
    "\n",
    "Tienen errores de tipo (números como texto, valores inválidos)\n",
    "Presentan duplicados o valores inconsistentes\n",
    "\n",
    "**Pandas** nos ofrece herramientas para detectar, limpiar y transformar estos datos fácilmente.\n",
    "\n",
    "Herramientas:\n",
    "\n",
    "### 🧹 Herramientas comunes para limpieza de datos en Series de pandas\n",
    "\n",
    "| Método / Función                        | Descripción                                                                 |\n",
    "|----------------------------------------|-----------------------------------------------------------------------------|\n",
    "| `isna()` / `isnull()`                  | Detecta valores nulos (`NaN`, `None`)                                      |\n",
    "| `notna()` / `notnull()`                | Detecta valores **no nulos**                                               |\n",
    "| `fillna(valor)`                        | Rellena los valores nulos con un valor fijo                                |\n",
    "| `dropna()`                             | Elimina los elementos que tienen valores nulos                             |\n",
    "| `replace(valor_original, valor_nuevo)` | Reemplaza valores específicos                                               |\n",
    "| `astype(tipo)`                         | Convierte los elementos a un tipo de dato específico (por ejemplo, `int`)  |\n",
    "| `pd.to_numeric(..., errors='coerce')`  | Convierte a numérico, errores se vuelven `NaN` si se usa `errors='coerce'` |\n",
    "| `drop_duplicates()`                    | Elimina elementos duplicados en la Serie                                   |\n"
   ]
  },
  {
   "cell_type": "markdown",
   "metadata": {
    "id": "0Pp_lAhC7Vwi"
   },
   "source": [
    "# Inplace = True\n",
    "Realiza los cambios directamente en la serie.\n"
   ]
  },
  {
   "cell_type": "code",
   "execution_count": 92,
   "metadata": {
    "id": "UzZRYO4Z2sEh"
   },
   "outputs": [
    {
     "name": "stdout",
     "output_type": "stream",
     "text": [
      "0             25\n",
      "1             32\n",
      "2           None\n",
      "3    desconocido\n",
      "4             41\n",
      "5             25\n",
      "6               \n",
      "7            N/A\n",
      "8          error\n",
      "9             29\n",
      "dtype: object\n"
     ]
    }
   ],
   "source": [
    "datos = pd.Series([\n",
    "    '25',\n",
    "    '32',\n",
    "    None,\n",
    "    'desconocido',\n",
    "    '41',\n",
    "    '25',\n",
    "    '',\n",
    "    'N/A',\n",
    "    'error',\n",
    "    '29'\n",
    "])\n",
    "\n",
    "print(datos)"
   ]
  },
  {
   "cell_type": "code",
   "execution_count": 100,
   "metadata": {
    "id": "2-f9UDTH5QP-"
   },
   "outputs": [
    {
     "name": "stdout",
     "output_type": "stream",
     "text": [
      "0    False\n",
      "1    False\n",
      "2     True\n",
      "3    False\n",
      "4    False\n",
      "5    False\n",
      "6    False\n",
      "7    False\n",
      "8    False\n",
      "9    False\n",
      "dtype: bool\n",
      "Remplazar\n",
      "0      25\n",
      "1      32\n",
      "2    None\n",
      "3    <NA>\n",
      "4      41\n",
      "5      25\n",
      "6    <NA>\n",
      "7    <NA>\n",
      "8    <NA>\n",
      "9      29\n",
      "dtype: object\n",
      "0    25.0\n",
      "1    32.0\n",
      "2     NaN\n",
      "3     NaN\n",
      "4    41.0\n",
      "5    25.0\n",
      "6     NaN\n",
      "7     NaN\n",
      "8     NaN\n",
      "9    29.0\n",
      "dtype: float64\n"
     ]
    }
   ],
   "source": [
    "# Detectar valores None (nulos)\n",
    "print(datos.isna())\n",
    "\n",
    "# remplazar\n",
    "print(\"Remplazar\")\n",
    "no_validos = ['desconocido', 'error', '', 'N/A']\n",
    "datos_limpios = datos.replace( no_validos, pd.NA )\n",
    "print(datos_limpios)\n",
    "\n",
    "\n",
    "\n",
    "# conversion a numeros\n",
    "dato_numero = pd.to_numeric(datos_limpios, errors=\"coerce\")\n",
    "print(dato_numero)\n",
    "\n",
    "# eliminar duplicados\n"
   ]
  },
  {
   "cell_type": "code",
   "execution_count": 104,
   "metadata": {
    "id": "dV-Va5RZ5UC7"
   },
   "outputs": [
    {
     "data": {
      "text/plain": [
       "0    25.0\n",
       "1    32.0\n",
       "2    30.4\n",
       "3    30.4\n",
       "4    41.0\n",
       "5    25.0\n",
       "6    30.4\n",
       "7    30.4\n",
       "8    30.4\n",
       "9    29.0\n",
       "dtype: float64"
      ]
     },
     "execution_count": 104,
     "metadata": {},
     "output_type": "execute_result"
    }
   ],
   "source": [
    "# llenar los NaN con la media\n",
    "dato_numero.fillna(dato_numero.mean())\n"
   ]
  },
  {
   "cell_type": "markdown",
   "metadata": {
    "id": "bu0BKTo28urW"
   },
   "source": [
    "#  transformar Series\n",
    "\n",
    "\n",
    "*   map(función)\n",
    "*   apply(función)\n",
    "*   where(condición, otro) -- Los que no cumplen\n",
    "* mask(condición, otro) -- los que si cumplen.\n",
    "\n"
   ]
  },
  {
   "cell_type": "code",
   "execution_count": 106,
   "metadata": {
    "id": "9w6uniuj7IL_"
   },
   "outputs": [
    {
     "name": "stderr",
     "output_type": "stream",
     "text": [
      "/var/folders/5j/_y0ygj096j5dn9mcsz4md2740000gn/T/ipykernel_41634/2073363939.py:4: FutureWarning: Setting an item of incompatible dtype is deprecated and will raise an error in a future version of pandas. Value 'Bajo' has dtype incompatible with int64, please explicitly cast to a compatible dtype first.\n",
      "  ventas.where(ventas > 150, 'Bajo', inplace=True)\n"
     ]
    },
    {
     "data": {
      "text/plain": [
       "0    Bajo\n",
       "1     200\n",
       "2     300\n",
       "3    Bajo\n",
       "4    Bajo\n",
       "dtype: object"
      ]
     },
     "execution_count": 106,
     "metadata": {},
     "output_type": "execute_result"
    }
   ],
   "source": [
    "ventas = pd.Series([150, 200, 300, 120, 90])\n",
    "\n",
    "# Conservar solo los valores mayores a 150, el resto como 'Bajo'\n",
    "ventas.where(ventas > 150, 'Bajo', inplace=True)\n",
    "ventas"
   ]
  },
  {
   "cell_type": "code",
   "execution_count": 108,
   "metadata": {
    "id": "VsSvKCpT9poQ"
   },
   "outputs": [
    {
     "data": {
      "text/plain": [
       "0     150\n",
       "1    Alto\n",
       "2    Alto\n",
       "3     120\n",
       "4      90\n",
       "dtype: object"
      ]
     },
     "execution_count": 108,
     "metadata": {},
     "output_type": "execute_result"
    }
   ],
   "source": [
    "# mask\n",
    "ventas = pd.Series([150, 200, 300, 120, 90])\n",
    "ventas.mask(ventas > 150, 'Alto')\n"
   ]
  },
  {
   "cell_type": "code",
   "execution_count": null,
   "metadata": {},
   "outputs": [],
   "source": []
  }
 ],
 "metadata": {
  "colab": {
   "provenance": []
  },
  "kernelspec": {
   "display_name": "Python [conda env:base] *",
   "language": "python",
   "name": "conda-base-py"
  },
  "language_info": {
   "codemirror_mode": {
    "name": "ipython",
    "version": 3
   },
   "file_extension": ".py",
   "mimetype": "text/x-python",
   "name": "python",
   "nbconvert_exporter": "python",
   "pygments_lexer": "ipython3",
   "version": "3.12.7"
  }
 },
 "nbformat": 4,
 "nbformat_minor": 4
}
